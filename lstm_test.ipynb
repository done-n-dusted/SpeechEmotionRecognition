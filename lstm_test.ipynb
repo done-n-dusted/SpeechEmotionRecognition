{
 "cells": [
  {
   "cell_type": "raw",
   "id": "1a12b16b",
   "metadata": {},
   "source": [
    "'anger', 'disgust', 'fear', 'joy', 'neutral', 'sadness', 'surprise'"
   ]
  },
  {
   "cell_type": "code",
   "execution_count": 65,
   "id": "323c8964",
   "metadata": {},
   "outputs": [],
   "source": [
    "import numpy as np"
   ]
  },
  {
   "cell_type": "raw",
   "id": "39c7974f",
   "metadata": {},
   "source": [
    "# save np.load\n",
    "np_load_old = np.load\n",
    "\n",
    "# modify the default parameters of np.load\n",
    "np.load = lambda *a,**k: np_load_old(*a, allow_pickle=True, **k)\n",
    "\n",
    "# call load_data with allow_pickle implicitly set to true\n",
    "(train_data, train_labels), (test_data, test_labels) = imdb.load_data(num_words=10000)\n",
    "\n",
    "# restore np.load for future normal usage\n",
    "np.load = np_load_old"
   ]
  },
  {
   "cell_type": "code",
   "execution_count": 93,
   "id": "b0479631",
   "metadata": {},
   "outputs": [],
   "source": [
    "X_train, y_train, X_test, y_test, X_dev, y_dev = np.load('./all_data.npy', allow_pickle = True)"
   ]
  },
  {
   "cell_type": "code",
   "execution_count": 67,
   "id": "db26577d",
   "metadata": {},
   "outputs": [],
   "source": [
    "def make_X(x):\n",
    "    res = []\n",
    "    x = x[767:]\n",
    "    for i in range(0, x.shape[0], 768):\n",
    "#         print(i)\n",
    "        res.append(np.array(x[i:i+768]))\n",
    "    print(np.array(res).shape)\n",
    "    return np.array(res)"
   ]
  },
  {
   "cell_type": "code",
   "execution_count": 68,
   "id": "25bc3a47",
   "metadata": {},
   "outputs": [
    {
     "name": "stdout",
     "output_type": "stream",
     "text": [
      "(9989, 768)\n",
      "(2610, 768)\n",
      "(1109, 768)\n"
     ]
    }
   ],
   "source": [
    "X_train, X_test, X_dev = make_X(X_train), make_X(X_test), make_X(X_dev)"
   ]
  },
  {
   "cell_type": "code",
   "execution_count": 69,
   "id": "d37f69c0",
   "metadata": {},
   "outputs": [
    {
     "data": {
      "text/plain": [
       "array([-6.40730262e-01, -3.37642372e-01, -7.80585647e-01,  4.76331055e-01,\n",
       "        4.17819947e-01, -1.38198420e-01,  5.06262422e-01,  1.64545968e-01,\n",
       "       -3.86585325e-01, -9.99690473e-01,  2.87325550e-02,  7.08387673e-01,\n",
       "        9.43858206e-01,  4.84381765e-01,  7.77700901e-01, -5.24473667e-01,\n",
       "        1.65937319e-01, -5.27704179e-01,  2.51430839e-01,  1.38695523e-01,\n",
       "        6.51594698e-01,  9.99777853e-01,  3.21779698e-01,  3.14313889e-01,\n",
       "        3.95222604e-01,  7.45978653e-01, -3.44828039e-01,  8.21617901e-01,\n",
       "        8.93230081e-01,  6.90777659e-01, -4.38903183e-01,  1.63439080e-01,\n",
       "       -9.74046052e-01, -1.60484880e-01, -7.69122422e-01, -9.58322704e-01,\n",
       "        2.45081514e-01, -5.41340768e-01,  3.96471610e-03,  1.29146457e-01,\n",
       "       -7.96119213e-01,  3.03336799e-01,  9.99148011e-01, -5.66293418e-01,\n",
       "        3.39183331e-01, -2.42660180e-01, -9.99906719e-01,  3.50715160e-01,\n",
       "       -7.59753048e-01,  5.67711353e-01,  5.44875026e-01,  5.25920868e-01,\n",
       "        1.47370964e-01,  3.50943655e-01,  4.20727491e-01, -3.74064334e-02,\n",
       "       -1.86334074e-01,  4.72748801e-02, -2.88399667e-01, -3.82470876e-01,\n",
       "       -6.62362635e-01,  4.09305066e-01, -6.14021361e-01, -7.51661777e-01,\n",
       "        3.17627877e-01,  6.73208416e-01, -1.78371161e-01, -2.47859001e-01,\n",
       "       -3.29870321e-02, -1.06893666e-01,  6.95984125e-01,  8.95884410e-02,\n",
       "       -2.76715428e-01, -7.82786965e-01,  1.28394276e-01,  2.45120317e-01,\n",
       "       -6.03198528e-01,  1.00000000e+00, -9.48800668e-02, -9.35275257e-01,\n",
       "        6.61898315e-01,  4.90707099e-01,  5.25421202e-01,  2.60227881e-02,\n",
       "        4.56962824e-01, -9.99998629e-01,  3.22480679e-01, -1.12243533e-01,\n",
       "       -9.72803891e-01,  1.43001989e-01,  3.41696709e-01, -1.56542644e-01,\n",
       "        6.16706610e-01,  5.66165864e-01, -4.50386822e-01, -3.88600141e-01,\n",
       "       -1.94592237e-01, -4.72653121e-01, -2.73875147e-01, -1.89441100e-01,\n",
       "        2.30196118e-01, -1.26674920e-01, -2.08972901e-01, -3.12721729e-01,\n",
       "        2.41593331e-01, -4.63315874e-01, -1.08530201e-01,  7.04259455e-01,\n",
       "        1.47273187e-02,  4.61999267e-01,  5.33156335e-01, -3.63431096e-01,\n",
       "        1.49346769e-01, -8.75738978e-01,  4.69199777e-01, -3.27303618e-01,\n",
       "       -9.59226906e-01, -5.52439868e-01, -9.64604616e-01,  6.46751046e-01,\n",
       "       -2.45462686e-01, -1.15331441e-01,  8.95042658e-01,  1.52982818e-02,\n",
       "        2.94597447e-01,  4.35377173e-02, -4.83082473e-01, -1.00000000e+00,\n",
       "       -3.47495794e-01, -2.54624099e-01,  6.31398708e-03, -2.35542059e-01,\n",
       "       -9.29853022e-01, -9.17453289e-01,  4.19221073e-01,  9.12415564e-01,\n",
       "        2.14150548e-01,  9.97408450e-01, -1.53280020e-01,  8.47838402e-01,\n",
       "       -8.45658705e-02, -4.85145628e-01, -4.24228758e-02, -4.34013128e-01,\n",
       "        7.14903533e-01, -1.43571481e-01, -2.01932758e-01,  2.37351492e-01,\n",
       "       -4.33502614e-01, -1.40339240e-01, -5.00239849e-01,  6.65845871e-02,\n",
       "       -4.42896724e-01, -8.24468970e-01, -3.70438486e-01,  8.79828751e-01,\n",
       "       -2.15510532e-01, -7.37617671e-01, -6.86647817e-02, -1.01756625e-01,\n",
       "       -2.53690094e-01,  6.91532612e-01,  5.02976835e-01,  2.82356769e-01,\n",
       "       -1.69016600e-01,  3.33301842e-01,  2.96869934e-01,  3.56376767e-01,\n",
       "       -6.50377095e-01,  2.04615697e-01,  2.62627244e-01, -2.52173692e-01,\n",
       "       -7.10758150e-01, -9.48560715e-01, -1.90278783e-01,  2.29312778e-01,\n",
       "        9.56075370e-01,  5.46658933e-01,  2.33815074e-01,  4.39242363e-01,\n",
       "       -3.71038198e-01,  1.42444521e-01, -9.01568115e-01,  9.41811502e-01,\n",
       "        4.56966879e-03,  2.60835648e-01, -4.99406457e-01,  3.53150368e-01,\n",
       "       -7.27303803e-01,  1.76101923e-01,  6.25138879e-01, -4.34561700e-01,\n",
       "       -5.57893753e-01, -8.65756720e-02, -4.62954104e-01, -2.01891810e-01,\n",
       "       -6.04779541e-01,  1.07592180e-01, -1.91195577e-01, -4.29168791e-01,\n",
       "       -7.31083900e-02,  8.63160372e-01,  7.62075067e-01,  4.31688249e-01,\n",
       "       -7.67919002e-04,  4.34661061e-01, -6.69968665e-01, -2.69709587e-01,\n",
       "        2.97785997e-02,  1.93317592e-01,  1.31310090e-01,  9.55321193e-01,\n",
       "       -6.35960639e-01,  8.63233134e-02, -8.56781960e-01, -9.59142625e-01,\n",
       "       -1.68405905e-01, -7.20274508e-01, -1.01786286e-01, -6.07105613e-01,\n",
       "        4.71555859e-01, -4.28127140e-01,  2.32237548e-01,  2.96544254e-01,\n",
       "       -7.56759763e-01, -5.71254432e-01,  2.99447387e-01, -3.99471104e-01,\n",
       "        3.54941905e-01, -2.70466536e-01,  8.98330688e-01,  7.81220436e-01,\n",
       "       -5.19608259e-01,  2.46774405e-04,  9.19372201e-01, -7.75216818e-01,\n",
       "       -7.40837395e-01,  3.13408941e-01, -2.44856328e-01,  6.65183723e-01,\n",
       "       -5.02008379e-01,  9.39649165e-01,  6.56402349e-01,  4.67173189e-01,\n",
       "       -6.84317470e-01, -5.52314162e-01, -5.94668329e-01, -1.73751250e-01,\n",
       "        2.33025365e-02,  1.35714054e-01,  5.71991980e-01,  6.21312320e-01,\n",
       "        2.80015528e-01,  2.96822667e-01, -1.90166593e-01,  8.68043721e-01,\n",
       "       -8.93037617e-01, -8.99926960e-01, -6.04946971e-01, -3.86337712e-02,\n",
       "       -9.69816566e-01,  4.10208046e-01,  2.15488806e-01,  3.02264720e-01,\n",
       "       -3.87097567e-01, -3.85913849e-01, -8.72967839e-01,  5.16728103e-01,\n",
       "        7.24499971e-02,  9.11661983e-01, -4.08692896e-01, -6.61677599e-01,\n",
       "       -3.28521788e-01, -8.03970933e-01, -8.38987902e-02, -2.48242050e-01,\n",
       "       -1.49137914e-01, -1.46551654e-01, -8.53998899e-01,  3.74652684e-01,\n",
       "        4.86705869e-01,  4.18263257e-01, -2.92132080e-01,  9.45907950e-01,\n",
       "        9.99992669e-01,  9.32980061e-01,  7.54558504e-01,  5.40056467e-01,\n",
       "       -9.96586382e-01, -3.92069310e-01,  9.99879241e-01, -8.71330678e-01,\n",
       "       -9.99998331e-01, -7.87731588e-01, -4.17142749e-01,  2.36451164e-01,\n",
       "       -1.00000000e+00, -1.73742592e-01,  5.29824104e-03, -7.32220113e-01,\n",
       "        3.84723842e-01,  9.11076367e-01,  8.38514626e-01, -1.00000000e+00,\n",
       "        4.78978336e-01,  8.43864143e-01, -6.29476368e-01,  6.29127264e-01,\n",
       "       -3.65004450e-01,  9.11016583e-01,  2.85493284e-01,  3.70787859e-01,\n",
       "       -2.18474552e-01,  3.27253222e-01, -8.42330515e-01, -7.11870015e-01,\n",
       "       -1.78940058e-01, -5.45027435e-01,  9.91042018e-01,  3.66049223e-02,\n",
       "       -5.74856400e-01, -7.52942622e-01,  2.99234718e-01, -1.92402303e-02,\n",
       "       -1.75608546e-01, -9.20008242e-01, -2.38873601e-01, -2.72625983e-01,\n",
       "        4.94275540e-01,  1.77658036e-01,  2.11394683e-01, -2.81811029e-01,\n",
       "        1.00594461e-01,  2.50595331e-01, -6.94957515e-03,  6.09637380e-01,\n",
       "       -8.15917373e-01, -2.99103022e-01, -1.79446995e-01, -4.26344782e-01,\n",
       "       -3.04963112e-01, -9.43733752e-01,  8.85715842e-01, -2.34643310e-01,\n",
       "        3.09846908e-01,  1.00000000e+00, -1.24119140e-01, -5.95975161e-01,\n",
       "        4.87143934e-01,  2.23154634e-01, -4.94362861e-01,  9.99999404e-01,\n",
       "        6.87575579e-01, -9.36114192e-01, -5.65548599e-01,  5.95550358e-01,\n",
       "       -3.91948819e-01, -5.31354189e-01,  9.93786216e-01, -1.43374220e-01,\n",
       "       -4.75615263e-01, -1.79490224e-02,  9.54779744e-01, -9.66507018e-01,\n",
       "        9.79865372e-01, -7.67282307e-01, -9.33498263e-01,  9.14969265e-01,\n",
       "        8.17116201e-01, -5.96905909e-02, -3.76379907e-01,  3.11813392e-02,\n",
       "       -6.16283953e-01,  1.80233642e-01, -7.57946849e-01,  3.56557906e-01,\n",
       "        2.79548228e-01, -1.05309956e-01,  8.34742367e-01, -2.85515785e-01,\n",
       "       -5.80995023e-01,  1.82194322e-01, -1.63032159e-01,  1.18995517e-01,\n",
       "        6.94186032e-01,  3.52844208e-01, -1.72504038e-01,  7.19215497e-02,\n",
       "       -1.50537372e-01, -6.57966316e-01, -9.33940172e-01,  5.62004268e-01,\n",
       "        1.00000000e+00, -3.75858769e-02,  5.87864578e-01, -2.97399998e-01,\n",
       "       -2.41402872e-02, -7.94859603e-02,  2.98329473e-01,  4.55054462e-01,\n",
       "       -3.10619920e-01, -6.60593450e-01,  3.19626749e-01, -7.21613705e-01,\n",
       "       -9.71655190e-01,  3.51492018e-01,  2.48687699e-01, -1.76663935e-01,\n",
       "        9.99045074e-01,  2.85927981e-01,  2.30645776e-01, -5.52692041e-02,\n",
       "        7.55562961e-01,  5.92119768e-02,  2.72951722e-01,  5.03611922e-01,\n",
       "        9.43614841e-01, -2.08149165e-01,  5.65066218e-01,  4.03867781e-01,\n",
       "       -4.54705507e-01, -2.37995148e-01, -5.70298076e-01,  1.25191612e-02,\n",
       "       -9.14759338e-01,  8.60495493e-02, -8.77173603e-01,  8.94341528e-01,\n",
       "        7.10311413e-01,  3.00779283e-01,  1.22596368e-01,  6.00456238e-01,\n",
       "        1.00000000e+00, -7.72892773e-01,  1.78202078e-01,  5.70602477e-01,\n",
       "        2.13273391e-01, -9.97441709e-01, -5.31626642e-01, -3.44296426e-01,\n",
       "       -5.34315594e-02, -5.17061353e-01, -3.74111742e-01,  9.37025324e-02,\n",
       "       -9.16995466e-01,  4.95606542e-01,  1.44782647e-01, -8.22500467e-01,\n",
       "       -9.44653153e-01, -9.76892337e-02,  5.68118691e-01,  1.02998815e-01,\n",
       "       -9.27167714e-01, -4.23386782e-01, -4.05788898e-01,  1.11976303e-01,\n",
       "       -1.94658875e-01, -8.16102982e-01,  1.99142933e-01, -1.84278145e-01,\n",
       "        3.25057387e-01, -1.36392325e-01,  5.82008243e-01,  6.23816609e-01,\n",
       "        6.29525185e-01, -5.99932015e-01, -1.83932856e-01, -9.06128585e-02,\n",
       "       -5.73600173e-01,  6.11469805e-01, -5.83153307e-01, -6.18221879e-01,\n",
       "       -7.81216025e-02,  1.00000000e+00, -1.75002903e-01,  7.11162269e-01,\n",
       "        4.90445375e-01,  2.37475917e-01, -1.82539120e-01,  1.64322808e-01,\n",
       "        7.33576357e-01,  1.75175861e-01, -5.34373939e-01, -3.09286922e-01,\n",
       "        6.93408072e-01, -2.05019400e-01,  5.94001591e-01,  4.15600061e-01,\n",
       "        7.26625919e-01,  5.73810697e-01,  4.89012122e-01,  4.51769903e-02,\n",
       "       -3.19026336e-02,  1.76247761e-01,  9.41573322e-01, -2.81230081e-02,\n",
       "       -5.44139706e-02, -2.50154972e-01, -4.49707359e-02, -2.73902029e-01,\n",
       "        2.92910069e-01,  1.00000000e+00,  2.95099765e-01,  2.66001999e-01,\n",
       "       -9.66359019e-01, -4.34463382e-01, -7.01360762e-01,  9.99971151e-01,\n",
       "        7.33426034e-01, -4.79883105e-01,  3.18040758e-01,  3.93741667e-01,\n",
       "       -1.37796834e-01,  3.06800783e-01, -1.79577678e-01, -2.81670064e-01,\n",
       "        1.54380277e-01,  8.00377727e-02,  8.81180346e-01, -4.35315251e-01,\n",
       "       -9.16316509e-01, -5.14234066e-01,  2.13282987e-01, -8.94440949e-01,\n",
       "        9.99042749e-01, -3.96065593e-01, -2.46620014e-01, -2.36860469e-01,\n",
       "        2.80954912e-02, -6.75647318e-01, -1.02627657e-01, -9.37610090e-01,\n",
       "       -5.25704920e-02,  2.26799287e-02,  8.75064254e-01,  2.47837484e-01,\n",
       "       -5.90188622e-01, -7.28762507e-01,  4.19953644e-01,  2.88541406e-01,\n",
       "       -5.23755908e-01, -8.28154981e-01,  8.59190285e-01, -9.20752764e-01,\n",
       "        3.69754016e-01,  9.99992728e-01,  3.79396230e-01, -2.49918640e-01,\n",
       "        1.54863328e-01, -4.72160846e-01,  2.63566852e-01, -7.61922672e-02,\n",
       "        5.30260742e-01, -8.84617507e-01, -3.25046748e-01, -2.29765385e-01,\n",
       "        1.82410151e-01, -9.72192511e-02, -1.82170466e-01,  3.06303471e-01,\n",
       "        2.08675027e-01, -4.68706876e-01, -5.87206960e-01,  3.88747416e-02,\n",
       "        3.60845566e-01,  3.13048303e-01, -2.32240453e-01, -4.18112352e-02,\n",
       "        9.47495475e-02,  9.32189897e-02, -7.40543187e-01, -2.56729484e-01,\n",
       "       -3.23184609e-01, -9.99821663e-01,  3.46057624e-01, -1.00000000e+00,\n",
       "        1.47289932e-01,  1.56466365e-01, -2.19481528e-01,  6.04022205e-01,\n",
       "        5.24885535e-01,  4.87296849e-01, -3.58879745e-01, -5.85542798e-01,\n",
       "        5.78103423e-01,  5.47290087e-01, -1.45587236e-01,  4.62971032e-02,\n",
       "       -3.53836983e-01,  1.59032390e-01, -8.81277174e-02,  1.30146235e-01,\n",
       "       -5.44811189e-01,  7.08842397e-01, -2.61441052e-01,  1.00000000e+00,\n",
       "        1.10594071e-01, -3.68374765e-01, -7.28652835e-01,  2.29082569e-01,\n",
       "       -2.24868432e-01,  9.99997914e-01, -4.37518746e-01, -8.53961825e-01,\n",
       "        3.49673718e-01, -5.94631791e-01, -6.80297971e-01,  3.81951481e-01,\n",
       "       -1.99101167e-03, -5.53857446e-01, -5.60350001e-01,  7.94981241e-01,\n",
       "        3.81378889e-01, -5.74124992e-01,  3.79476011e-01, -2.43323848e-01,\n",
       "       -4.23749924e-01,  7.77998790e-02,  6.57231152e-01,  9.63726819e-01,\n",
       "        3.52760732e-01,  6.05485797e-01,  8.27796161e-02, -1.29701227e-01,\n",
       "        9.16442156e-01,  1.73413306e-01, -2.73696065e-01,  9.54803005e-02,\n",
       "        9.99998689e-01,  3.23116988e-01, -8.41152489e-01,  2.39021242e-01,\n",
       "       -9.22825217e-01, -1.42827973e-01, -8.57538283e-01,  2.64615983e-01,\n",
       "        9.72710401e-02,  7.86394536e-01, -1.40745744e-01,  8.09910655e-01,\n",
       "       -2.50629872e-01,  7.86874536e-03,  6.54365495e-02, -2.81682551e-01,\n",
       "        2.39533544e-01, -7.60614097e-01, -9.61261511e-01, -9.50812817e-01,\n",
       "        3.41706425e-01, -3.64906698e-01, -8.24480958e-04,  2.24472344e-01,\n",
       "       -3.60258892e-02,  3.35467100e-01,  2.31466785e-01, -9.99999642e-01,\n",
       "        8.18198502e-01,  3.45489204e-01,  7.23015308e-01,  8.99514973e-01,\n",
       "        3.54171127e-01,  2.71671414e-01,  3.63998622e-01, -9.33506668e-01,\n",
       "       -8.08457315e-01, -2.56443918e-01, -2.07880005e-01,  4.87491131e-01,\n",
       "        5.07314742e-01,  6.91545367e-01,  1.06372438e-01, -4.72292602e-01,\n",
       "       -5.66720247e-01, -4.11021799e-01, -7.42487252e-01, -9.68130827e-01,\n",
       "        3.30723584e-01, -2.70784765e-01, -5.67710161e-01,  9.10104454e-01,\n",
       "       -1.51791453e-01, -1.02840371e-01,  9.39622298e-02, -5.21081448e-01,\n",
       "        4.94270802e-01,  6.79629028e-01,  5.93607053e-02,  9.53304693e-02,\n",
       "        3.21661621e-01,  6.25262499e-01,  7.32204497e-01,  9.42675948e-01,\n",
       "       -6.32644415e-01,  4.04722244e-01, -4.45660144e-01,  2.30448589e-01,\n",
       "        7.88244903e-01, -8.62437069e-01,  9.37589705e-02,  2.22270623e-01,\n",
       "       -1.25700906e-01,  1.41315117e-01, -2.58638769e-01, -7.20107675e-01,\n",
       "        4.53122586e-01, -2.41738677e-01,  4.05545413e-01, -3.66873384e-01,\n",
       "        3.85501906e-02, -3.77349138e-01, -1.35199621e-01, -5.91449201e-01,\n",
       "       -3.92433941e-01,  6.49595022e-01,  1.80810913e-01,  7.58241236e-01,\n",
       "        7.69676149e-01, -6.78810328e-02, -3.66194278e-01,  1.19988034e-02,\n",
       "       -6.28747940e-01, -8.18309844e-01,  6.01008117e-01,  7.84204304e-02,\n",
       "       -3.58506590e-01,  6.53683126e-01, -2.02843711e-01,  8.62451315e-01,\n",
       "        3.15042555e-01, -3.40466112e-01, -2.39533946e-01, -5.13422370e-01,\n",
       "        6.64427519e-01, -4.86361921e-01, -4.02745694e-01, -3.23559493e-01,\n",
       "        3.46296042e-01,  3.23190361e-01,  9.99613225e-01, -5.31019926e-01,\n",
       "       -5.63113987e-01, -2.80711561e-01, -2.94620663e-01,  4.08539742e-01,\n",
       "       -1.93031147e-01, -9.99999702e-01,  3.05045962e-01, -3.08839053e-01,\n",
       "        4.91468996e-01, -6.98175505e-02,  6.59084141e-01, -1.72937870e-01,\n",
       "       -8.27059507e-01, -2.66836286e-01,  3.90176177e-01,  4.47877854e-01,\n",
       "       -4.70330685e-01, -9.37675983e-02,  5.61361015e-01,  9.29852873e-02,\n",
       "        7.04030454e-01,  6.40160799e-01, -4.90852296e-02,  3.80702496e-01,\n",
       "        6.15723491e-01, -7.73912966e-01, -5.91388464e-01,  7.60872006e-01])"
      ]
     },
     "execution_count": 69,
     "metadata": {},
     "output_type": "execute_result"
    }
   ],
   "source": [
    "X_train[0]"
   ]
  },
  {
   "cell_type": "code",
   "execution_count": 70,
   "id": "606d8719",
   "metadata": {},
   "outputs": [],
   "source": [
    "from sklearn import preprocessing\n",
    "\n",
    "min_max_scaler = preprocessing.StandardScaler()\n",
    "X_train = min_max_scaler.fit_transform(X_train)\n",
    "X_test = min_max_scaler.transform(X_test)\n",
    "X_dev = min_max_scaler.transform(X_dev)"
   ]
  },
  {
   "cell_type": "code",
   "execution_count": 71,
   "id": "804d0411",
   "metadata": {},
   "outputs": [],
   "source": [
    "num_classes = 7\n",
    "time_step = 1"
   ]
  },
  {
   "cell_type": "raw",
   "id": "19939905",
   "metadata": {},
   "source": [
    "tmp_train = np.reshape(X_train[0], (1, len(X_train[0])))\n",
    "print(tmp_train.shape)\n",
    "tmp_train = np.repeat(tmp_train, timestep, axis=0)\n",
    "print(tmp_train.shape)\n",
    "print(len(tmp_train[0]))\n",
    "print(len(tmp_train[:,:]))\n",
    "ab = np.reshape(tmp_train, (1, len(tmp_train[:,:]), len(tmp_train[0])))\n",
    "print(ab.shape)\n",
    "print(X_train.shape[0])\n",
    "X_train = np.repeat( ab, X_train.shape[0], axis=0)\n",
    "print(X_train.shape)"
   ]
  },
  {
   "cell_type": "code",
   "execution_count": 72,
   "id": "169707d8",
   "metadata": {},
   "outputs": [],
   "source": [
    "def expand_on_time(X, timestep = time_step):\n",
    "    tmp = np.reshape(X[0], (1, len(X[0])))\n",
    "#     print(tmp.shape)\n",
    "    tmp = np.repeat(tmp, timestep, axis = 0)\n",
    "#     print(tmp.shape)\n",
    "    ab = np.reshape(tmp, (1, len(tmp[:,:]), len(tmp[0])))\n",
    "#     print(ab.shape)\n",
    "#     print(X.shape)\n",
    "    X = np.repeat(ab, X.shape[0], axis = 0)\n",
    "#     print(X.shape)\n",
    "    return X"
   ]
  },
  {
   "cell_type": "code",
   "execution_count": 73,
   "id": "d38cf793",
   "metadata": {},
   "outputs": [],
   "source": [
    "X_train, X_test, X_dev = expand_on_time(X_train), expand_on_time(X_test), expand_on_time(X_dev)"
   ]
  },
  {
   "cell_type": "code",
   "execution_count": 74,
   "id": "91dacbd9",
   "metadata": {},
   "outputs": [
    {
     "data": {
      "text/plain": [
       "((9989, 1, 768), (2610, 1, 768), (1109, 1, 768))"
      ]
     },
     "execution_count": 74,
     "metadata": {},
     "output_type": "execute_result"
    }
   ],
   "source": [
    "X_train.shape, X_test.shape, X_dev.shape"
   ]
  },
  {
   "cell_type": "code",
   "execution_count": 75,
   "id": "1527bb86",
   "metadata": {},
   "outputs": [],
   "source": [
    "import pandas as pd\n",
    "\n",
    "loly = pd.DataFrame(y_train, columns = range(0,7))"
   ]
  },
  {
   "cell_type": "code",
   "execution_count": 76,
   "id": "7857cba9",
   "metadata": {},
   "outputs": [
    {
     "data": {
      "text/plain": [
       "1109"
      ]
     },
     "execution_count": 76,
     "metadata": {},
     "output_type": "execute_result"
    }
   ],
   "source": [
    "loly[0].value_counts().loc[1]"
   ]
  },
  {
   "cell_type": "code",
   "execution_count": 77,
   "id": "e9209c13",
   "metadata": {},
   "outputs": [
    {
     "name": "stdout",
     "output_type": "stream",
     "text": [
      "1109 4710 4.247069431920649\n",
      "271 4710 17.380073800738007\n",
      "268 4710 17.574626865671643\n",
      "1743 4710 2.70223752151463\n",
      "4710 4710 1.0\n",
      "683 4710 6.8960468521229865\n",
      "1205 4710 3.908713692946058\n"
     ]
    },
    {
     "data": {
      "text/plain": [
       "[4.247069431920649,\n",
       " 17.380073800738007,\n",
       " 17.574626865671643,\n",
       " 2.70223752151463,\n",
       " 1.0,\n",
       " 6.8960468521229865,\n",
       " 3.908713692946058]"
      ]
     },
     "execution_count": 77,
     "metadata": {},
     "output_type": "execute_result"
    }
   ],
   "source": [
    "arr = [0]*7\n",
    "for i in range(7):\n",
    "    arr[i] = loly[i].value_counts().loc[1]\n",
    "# arr = np.array(arr)\n",
    "mx = max(arr)\n",
    "for i in range(7):\n",
    "    print(arr[i], mx, mx/arr[i])\n",
    "    arr[i] = mx/arr[i]\n",
    "# arr = 1.5*(1 - arr/max(arr))\n",
    "arr"
   ]
  },
  {
   "cell_type": "code",
   "execution_count": 78,
   "id": "b49957cb",
   "metadata": {},
   "outputs": [
    {
     "name": "stdout",
     "output_type": "stream",
     "text": [
      "Num GPUs Available:  1\n"
     ]
    }
   ],
   "source": [
    "import tensorflow as tf\n",
    "print(\"Num GPUs Available: \", len(tf.config.experimental.list_physical_devices('GPU')))"
   ]
  },
  {
   "cell_type": "code",
   "execution_count": 79,
   "id": "744eac28",
   "metadata": {},
   "outputs": [
    {
     "name": "stdout",
     "output_type": "stream",
     "text": [
      "[name: \"/device:CPU:0\"\n",
      "device_type: \"CPU\"\n",
      "memory_limit: 268435456\n",
      "locality {\n",
      "}\n",
      "incarnation: 5324554589689648367\n",
      ", name: \"/device:GPU:0\"\n",
      "device_type: \"GPU\"\n",
      "memory_limit: 23526814592\n",
      "locality {\n",
      "  bus_id: 1\n",
      "  links {\n",
      "  }\n",
      "}\n",
      "incarnation: 17469593053589950972\n",
      "physical_device_desc: \"device: 0, name: TITAN RTX, pci bus id: 0000:01:00.0, compute capability: 7.5\"\n",
      "]\n"
     ]
    }
   ],
   "source": [
    "from tensorflow.python.client import device_lib\n",
    "print(device_lib.list_local_devices())"
   ]
  },
  {
   "cell_type": "code",
   "execution_count": null,
   "id": "bb32f69a",
   "metadata": {},
   "outputs": [],
   "source": []
  },
  {
   "cell_type": "code",
   "execution_count": 80,
   "id": "64c350d6",
   "metadata": {},
   "outputs": [],
   "source": [
    "from tensorflow.keras.models import Sequential\n",
    "from tensorflow.keras.layers import Dense, Dropout, Activation, Flatten, LSTM, Bidirectional\n",
    "from tensorflow.keras.optimizers import RMSprop, SGD"
   ]
  },
  {
   "cell_type": "code",
   "execution_count": 81,
   "id": "4703d615",
   "metadata": {},
   "outputs": [],
   "source": [
    "import tensorflow as tf\n",
    "\n",
    "with tf.device('/GPU:0'):\n",
    "\n",
    "    model = Sequential()\n",
    "    model.add(LSTM(800, input_shape=(time_step, 768), return_sequences=True))\n",
    "    model.add(LSTM(10))\n",
    "#     model.add(Dropout(0.5))\n",
    "    # model.add(LSTM(64, return_sequences = True))\n",
    "#     model.add(Dropout(0.4))\n",
    "#     model.add(LSTM(150, return_sequences = True))\n",
    "#     model.add(LSTM(32))\n",
    "#     model.add(Dropout(0.5))\n",
    "    # model.add(Activation('softmax'))\n",
    "    # model.add(Dense(32, activation = 'tanh'))\n",
    "    # model.add(Dropout(0.4))\n",
    "#     model.add(Dense(128, activation = 'relu'))\n",
    "#     model.add(Dense(64, activation = 'relu'))\n",
    "#     model.add(Dense(32, activation = 'relu'))\n",
    "    model.add(Dense(num_classes, activation = 'softmax'))\n",
    "\n",
    "    sgd = SGD(lr=1e-1, decay=1e-6, momentum=0.9, nesterov=True)\n",
    "    #rms = RMSprop(lr=0.001, rho=0.9, epsilon=1e-08, decay=0.0)\n",
    "\n",
    "    model.compile(loss='categorical_crossentropy',\n",
    "              optimizer=sgd,\n",
    "              metrics=['accuracy'])"
   ]
  },
  {
   "cell_type": "code",
   "execution_count": 82,
   "id": "b089b876",
   "metadata": {},
   "outputs": [
    {
     "name": "stdout",
     "output_type": "stream",
     "text": [
      "Model: \"sequential_10\"\n",
      "_________________________________________________________________\n",
      "Layer (type)                 Output Shape              Param #   \n",
      "=================================================================\n",
      "lstm_18 (LSTM)               (None, 1, 800)            5020800   \n",
      "_________________________________________________________________\n",
      "lstm_19 (LSTM)               (None, 10)                32440     \n",
      "_________________________________________________________________\n",
      "dense_24 (Dense)             (None, 7)                 77        \n",
      "=================================================================\n",
      "Total params: 5,053,317\n",
      "Trainable params: 5,053,317\n",
      "Non-trainable params: 0\n",
      "_________________________________________________________________\n"
     ]
    }
   ],
   "source": [
    "model.summary()"
   ]
  },
  {
   "cell_type": "code",
   "execution_count": 83,
   "id": "c64287ab",
   "metadata": {},
   "outputs": [],
   "source": [
    "from keras.callbacks import EarlyStopping\n",
    "early_stopping = EarlyStopping(monitor='val_loss', patience=10)\n"
   ]
  },
  {
   "cell_type": "code",
   "execution_count": 84,
   "id": "aed779bb",
   "metadata": {},
   "outputs": [],
   "source": [
    "class_weights = {}\n",
    "\n",
    "for i in range(7):\n",
    "    class_weights[i] = arr[i]"
   ]
  },
  {
   "cell_type": "code",
   "execution_count": 85,
   "id": "0f232c27",
   "metadata": {},
   "outputs": [
    {
     "name": "stdout",
     "output_type": "stream",
     "text": [
      "Epoch 1/100\n",
      "1998/1998 [==============================] - 38s 18ms/step - loss: 11.1169 - accuracy: 0.1588 - val_loss: 2.4945 - val_accuracy: 0.1188\n",
      "Epoch 2/100\n",
      " 451/1998 [=====>........................] - ETA: 17s - loss: 12.1679 - accuracy: 0.1517"
     ]
    },
    {
     "ename": "KeyboardInterrupt",
     "evalue": "",
     "output_type": "error",
     "traceback": [
      "\u001b[0;31m---------------------------------------------------------------------------\u001b[0m",
      "\u001b[0;31mKeyboardInterrupt\u001b[0m                         Traceback (most recent call last)",
      "\u001b[0;32m<ipython-input-85-065943729960>\u001b[0m in \u001b[0;36m<module>\u001b[0;34m\u001b[0m\n\u001b[1;32m      7\u001b[0m                  \u001b[0mepochs\u001b[0m\u001b[0;34m=\u001b[0m\u001b[0;36m100\u001b[0m\u001b[0;34m,\u001b[0m \u001b[0mbatch_size\u001b[0m\u001b[0;34m=\u001b[0m\u001b[0;36m2\u001b[0m\u001b[0;34m,\u001b[0m\u001b[0;34m\u001b[0m\u001b[0;34m\u001b[0m\u001b[0m\n\u001b[1;32m      8\u001b[0m                  \u001b[0mshuffle\u001b[0m\u001b[0;34m=\u001b[0m\u001b[0;32mFalse\u001b[0m\u001b[0;34m,\u001b[0m \u001b[0mcallbacks\u001b[0m\u001b[0;34m=\u001b[0m\u001b[0;34m[\u001b[0m\u001b[0mearly_stopping\u001b[0m\u001b[0;34m]\u001b[0m\u001b[0;34m,\u001b[0m\u001b[0;34m\u001b[0m\u001b[0;34m\u001b[0m\u001b[0m\n\u001b[0;32m----> 9\u001b[0;31m                  class_weight = class_weights)\n\u001b[0m",
      "\u001b[0;32m~/anaconda3/envs/ser2/lib/python3.7/site-packages/tensorflow/python/keras/engine/training.py\u001b[0m in \u001b[0;36mfit\u001b[0;34m(self, x, y, batch_size, epochs, verbose, callbacks, validation_split, validation_data, shuffle, class_weight, sample_weight, initial_epoch, steps_per_epoch, validation_steps, validation_batch_size, validation_freq, max_queue_size, workers, use_multiprocessing)\u001b[0m\n\u001b[1;32m   1098\u001b[0m                 _r=1):\n\u001b[1;32m   1099\u001b[0m               \u001b[0mcallbacks\u001b[0m\u001b[0;34m.\u001b[0m\u001b[0mon_train_batch_begin\u001b[0m\u001b[0;34m(\u001b[0m\u001b[0mstep\u001b[0m\u001b[0;34m)\u001b[0m\u001b[0;34m\u001b[0m\u001b[0;34m\u001b[0m\u001b[0m\n\u001b[0;32m-> 1100\u001b[0;31m               \u001b[0mtmp_logs\u001b[0m \u001b[0;34m=\u001b[0m \u001b[0mself\u001b[0m\u001b[0;34m.\u001b[0m\u001b[0mtrain_function\u001b[0m\u001b[0;34m(\u001b[0m\u001b[0miterator\u001b[0m\u001b[0;34m)\u001b[0m\u001b[0;34m\u001b[0m\u001b[0;34m\u001b[0m\u001b[0m\n\u001b[0m\u001b[1;32m   1101\u001b[0m               \u001b[0;32mif\u001b[0m \u001b[0mdata_handler\u001b[0m\u001b[0;34m.\u001b[0m\u001b[0mshould_sync\u001b[0m\u001b[0;34m:\u001b[0m\u001b[0;34m\u001b[0m\u001b[0;34m\u001b[0m\u001b[0m\n\u001b[1;32m   1102\u001b[0m                 \u001b[0mcontext\u001b[0m\u001b[0;34m.\u001b[0m\u001b[0masync_wait\u001b[0m\u001b[0;34m(\u001b[0m\u001b[0;34m)\u001b[0m\u001b[0;34m\u001b[0m\u001b[0;34m\u001b[0m\u001b[0m\n",
      "\u001b[0;32m~/anaconda3/envs/ser2/lib/python3.7/site-packages/tensorflow/python/eager/def_function.py\u001b[0m in \u001b[0;36m__call__\u001b[0;34m(self, *args, **kwds)\u001b[0m\n\u001b[1;32m    826\u001b[0m     \u001b[0mtracing_count\u001b[0m \u001b[0;34m=\u001b[0m \u001b[0mself\u001b[0m\u001b[0;34m.\u001b[0m\u001b[0mexperimental_get_tracing_count\u001b[0m\u001b[0;34m(\u001b[0m\u001b[0;34m)\u001b[0m\u001b[0;34m\u001b[0m\u001b[0;34m\u001b[0m\u001b[0m\n\u001b[1;32m    827\u001b[0m     \u001b[0;32mwith\u001b[0m \u001b[0mtrace\u001b[0m\u001b[0;34m.\u001b[0m\u001b[0mTrace\u001b[0m\u001b[0;34m(\u001b[0m\u001b[0mself\u001b[0m\u001b[0;34m.\u001b[0m\u001b[0m_name\u001b[0m\u001b[0;34m)\u001b[0m \u001b[0;32mas\u001b[0m \u001b[0mtm\u001b[0m\u001b[0;34m:\u001b[0m\u001b[0;34m\u001b[0m\u001b[0;34m\u001b[0m\u001b[0m\n\u001b[0;32m--> 828\u001b[0;31m       \u001b[0mresult\u001b[0m \u001b[0;34m=\u001b[0m \u001b[0mself\u001b[0m\u001b[0;34m.\u001b[0m\u001b[0m_call\u001b[0m\u001b[0;34m(\u001b[0m\u001b[0;34m*\u001b[0m\u001b[0margs\u001b[0m\u001b[0;34m,\u001b[0m \u001b[0;34m**\u001b[0m\u001b[0mkwds\u001b[0m\u001b[0;34m)\u001b[0m\u001b[0;34m\u001b[0m\u001b[0;34m\u001b[0m\u001b[0m\n\u001b[0m\u001b[1;32m    829\u001b[0m       \u001b[0mcompiler\u001b[0m \u001b[0;34m=\u001b[0m \u001b[0;34m\"xla\"\u001b[0m \u001b[0;32mif\u001b[0m \u001b[0mself\u001b[0m\u001b[0;34m.\u001b[0m\u001b[0m_experimental_compile\u001b[0m \u001b[0;32melse\u001b[0m \u001b[0;34m\"nonXla\"\u001b[0m\u001b[0;34m\u001b[0m\u001b[0;34m\u001b[0m\u001b[0m\n\u001b[1;32m    830\u001b[0m       \u001b[0mnew_tracing_count\u001b[0m \u001b[0;34m=\u001b[0m \u001b[0mself\u001b[0m\u001b[0;34m.\u001b[0m\u001b[0mexperimental_get_tracing_count\u001b[0m\u001b[0;34m(\u001b[0m\u001b[0;34m)\u001b[0m\u001b[0;34m\u001b[0m\u001b[0;34m\u001b[0m\u001b[0m\n",
      "\u001b[0;32m~/anaconda3/envs/ser2/lib/python3.7/site-packages/tensorflow/python/eager/def_function.py\u001b[0m in \u001b[0;36m_call\u001b[0;34m(self, *args, **kwds)\u001b[0m\n\u001b[1;32m    853\u001b[0m       \u001b[0;31m# In this case we have created variables on the first call, so we run the\u001b[0m\u001b[0;34m\u001b[0m\u001b[0;34m\u001b[0m\u001b[0;34m\u001b[0m\u001b[0m\n\u001b[1;32m    854\u001b[0m       \u001b[0;31m# defunned version which is guaranteed to never create variables.\u001b[0m\u001b[0;34m\u001b[0m\u001b[0;34m\u001b[0m\u001b[0;34m\u001b[0m\u001b[0m\n\u001b[0;32m--> 855\u001b[0;31m       \u001b[0;32mreturn\u001b[0m \u001b[0mself\u001b[0m\u001b[0;34m.\u001b[0m\u001b[0m_stateless_fn\u001b[0m\u001b[0;34m(\u001b[0m\u001b[0;34m*\u001b[0m\u001b[0margs\u001b[0m\u001b[0;34m,\u001b[0m \u001b[0;34m**\u001b[0m\u001b[0mkwds\u001b[0m\u001b[0;34m)\u001b[0m  \u001b[0;31m# pylint: disable=not-callable\u001b[0m\u001b[0;34m\u001b[0m\u001b[0;34m\u001b[0m\u001b[0m\n\u001b[0m\u001b[1;32m    856\u001b[0m     \u001b[0;32melif\u001b[0m \u001b[0mself\u001b[0m\u001b[0;34m.\u001b[0m\u001b[0m_stateful_fn\u001b[0m \u001b[0;32mis\u001b[0m \u001b[0;32mnot\u001b[0m \u001b[0;32mNone\u001b[0m\u001b[0;34m:\u001b[0m\u001b[0;34m\u001b[0m\u001b[0;34m\u001b[0m\u001b[0m\n\u001b[1;32m    857\u001b[0m       \u001b[0;31m# Release the lock early so that multiple threads can perform the call\u001b[0m\u001b[0;34m\u001b[0m\u001b[0;34m\u001b[0m\u001b[0;34m\u001b[0m\u001b[0m\n",
      "\u001b[0;32m~/anaconda3/envs/ser2/lib/python3.7/site-packages/tensorflow/python/eager/function.py\u001b[0m in \u001b[0;36m__call__\u001b[0;34m(self, *args, **kwargs)\u001b[0m\n\u001b[1;32m   2941\u001b[0m        filtered_flat_args) = self._maybe_define_function(args, kwargs)\n\u001b[1;32m   2942\u001b[0m     return graph_function._call_flat(\n\u001b[0;32m-> 2943\u001b[0;31m         filtered_flat_args, captured_inputs=graph_function.captured_inputs)  # pylint: disable=protected-access\n\u001b[0m\u001b[1;32m   2944\u001b[0m \u001b[0;34m\u001b[0m\u001b[0m\n\u001b[1;32m   2945\u001b[0m   \u001b[0;34m@\u001b[0m\u001b[0mproperty\u001b[0m\u001b[0;34m\u001b[0m\u001b[0;34m\u001b[0m\u001b[0m\n",
      "\u001b[0;32m~/anaconda3/envs/ser2/lib/python3.7/site-packages/tensorflow/python/eager/function.py\u001b[0m in \u001b[0;36m_call_flat\u001b[0;34m(self, args, captured_inputs, cancellation_manager)\u001b[0m\n\u001b[1;32m   1917\u001b[0m       \u001b[0;31m# No tape is watching; skip to running the function.\u001b[0m\u001b[0;34m\u001b[0m\u001b[0;34m\u001b[0m\u001b[0;34m\u001b[0m\u001b[0m\n\u001b[1;32m   1918\u001b[0m       return self._build_call_outputs(self._inference_function.call(\n\u001b[0;32m-> 1919\u001b[0;31m           ctx, args, cancellation_manager=cancellation_manager))\n\u001b[0m\u001b[1;32m   1920\u001b[0m     forward_backward = self._select_forward_and_backward_functions(\n\u001b[1;32m   1921\u001b[0m         \u001b[0margs\u001b[0m\u001b[0;34m,\u001b[0m\u001b[0;34m\u001b[0m\u001b[0;34m\u001b[0m\u001b[0m\n",
      "\u001b[0;32m~/anaconda3/envs/ser2/lib/python3.7/site-packages/tensorflow/python/eager/function.py\u001b[0m in \u001b[0;36mcall\u001b[0;34m(self, ctx, args, cancellation_manager)\u001b[0m\n\u001b[1;32m    558\u001b[0m               \u001b[0minputs\u001b[0m\u001b[0;34m=\u001b[0m\u001b[0margs\u001b[0m\u001b[0;34m,\u001b[0m\u001b[0;34m\u001b[0m\u001b[0;34m\u001b[0m\u001b[0m\n\u001b[1;32m    559\u001b[0m               \u001b[0mattrs\u001b[0m\u001b[0;34m=\u001b[0m\u001b[0mattrs\u001b[0m\u001b[0;34m,\u001b[0m\u001b[0;34m\u001b[0m\u001b[0;34m\u001b[0m\u001b[0m\n\u001b[0;32m--> 560\u001b[0;31m               ctx=ctx)\n\u001b[0m\u001b[1;32m    561\u001b[0m         \u001b[0;32melse\u001b[0m\u001b[0;34m:\u001b[0m\u001b[0;34m\u001b[0m\u001b[0;34m\u001b[0m\u001b[0m\n\u001b[1;32m    562\u001b[0m           outputs = execute.execute_with_cancellation(\n",
      "\u001b[0;32m~/anaconda3/envs/ser2/lib/python3.7/site-packages/tensorflow/python/eager/execute.py\u001b[0m in \u001b[0;36mquick_execute\u001b[0;34m(op_name, num_outputs, inputs, attrs, ctx, name)\u001b[0m\n\u001b[1;32m     58\u001b[0m     \u001b[0mctx\u001b[0m\u001b[0;34m.\u001b[0m\u001b[0mensure_initialized\u001b[0m\u001b[0;34m(\u001b[0m\u001b[0;34m)\u001b[0m\u001b[0;34m\u001b[0m\u001b[0;34m\u001b[0m\u001b[0m\n\u001b[1;32m     59\u001b[0m     tensors = pywrap_tfe.TFE_Py_Execute(ctx._handle, device_name, op_name,\n\u001b[0;32m---> 60\u001b[0;31m                                         inputs, attrs, num_outputs)\n\u001b[0m\u001b[1;32m     61\u001b[0m   \u001b[0;32mexcept\u001b[0m \u001b[0mcore\u001b[0m\u001b[0;34m.\u001b[0m\u001b[0m_NotOkStatusException\u001b[0m \u001b[0;32mas\u001b[0m \u001b[0me\u001b[0m\u001b[0;34m:\u001b[0m\u001b[0;34m\u001b[0m\u001b[0;34m\u001b[0m\u001b[0m\n\u001b[1;32m     62\u001b[0m     \u001b[0;32mif\u001b[0m \u001b[0mname\u001b[0m \u001b[0;32mis\u001b[0m \u001b[0;32mnot\u001b[0m \u001b[0;32mNone\u001b[0m\u001b[0;34m:\u001b[0m\u001b[0;34m\u001b[0m\u001b[0;34m\u001b[0m\u001b[0m\n",
      "\u001b[0;31mKeyboardInterrupt\u001b[0m: "
     ]
    }
   ],
   "source": [
    "\n",
    "with tf.device('/GPU:0'):\n",
    "\n",
    "    hist = model.fit(X_train, y_train, \n",
    "#                  validation_data = (X_dev, y_dev), \n",
    "                 validation_split = 0.6,\n",
    "                 verbose=1, \n",
    "                 epochs=100, batch_size=2, \n",
    "                 shuffle=False, callbacks=[early_stopping],\n",
    "                 class_weight = class_weights)"
   ]
  },
  {
   "cell_type": "code",
   "execution_count": null,
   "id": "281aabe7",
   "metadata": {},
   "outputs": [],
   "source": [
    "import matplotlib.pyplot as plt\n",
    "\n",
    "plt.figure()\n",
    "# plt.subplot(1, 2, 1)\n",
    "plt.plot(hist.history['loss'])\n",
    "plt.title('Loss')\n",
    "plt.xlabel('epoch')\n",
    "plt.ylabel('loss')\n",
    "plt.show()"
   ]
  },
  {
   "cell_type": "code",
   "execution_count": null,
   "id": "c68d0358",
   "metadata": {},
   "outputs": [],
   "source": [
    "score = model.evaluate(X_test, y_test, verbose=0)\n",
    "print('Test loss:', score[0])\n",
    "print('Test accuracy:', score[1])"
   ]
  },
  {
   "cell_type": "code",
   "execution_count": null,
   "id": "43970952",
   "metadata": {},
   "outputs": [],
   "source": [
    "def get_tfarray(arr):\n",
    "    result = []\n",
    "    for i in arr:\n",
    "        m = np.max(i)\n",
    "        result.append(i == m)\n",
    "    return np.array(result)"
   ]
  },
  {
   "cell_type": "code",
   "execution_count": null,
   "id": "14c00378",
   "metadata": {},
   "outputs": [],
   "source": [
    "from sklearn.metrics import classification_report\n",
    "from sklearn.metrics import accuracy_score\n",
    "class_names = ['anger', 'disgust', 'fear', 'joy', 'neutral', 'sadness', 'surprise']\n",
    "\n",
    "\n",
    "y_pred = model.predict(X_test)\n",
    "\n",
    "y_pred = get_tfarray(y_pred)\n",
    "\n",
    "accuracy_score(y_test, y_pred, normalize=False)\n",
    "print(classification_report(y_test, y_pred, target_names=class_names, digits=4))"
   ]
  },
  {
   "cell_type": "code",
   "execution_count": null,
   "id": "ad6c6fab",
   "metadata": {},
   "outputs": [],
   "source": [
    "from sklearn.metrics import confusion_matrix\n",
    "#Get the confusion matrix\n",
    "\n",
    "\n",
    "#array([[1, 0, 0],\n",
    "#   [1, 0, 0],\n",
    "#   [0, 1, 2]])\n",
    "cm =confusion_matrix(y_test.argmax(axis=1), y_pred.argmax(axis=1))\n",
    "#Now the normalize the diagonal entries\n",
    "cm = cm.astype('float') / cm.sum(axis=1)[:, np.newaxis]\n",
    "#array([[1.        , 0.        , 0.        ],\n",
    "#      [1.        , 0.        , 0.        ],\n",
    "#      [0.        , 0.33333333, 0.66666667]])\n",
    "\n",
    "#The diagonal entries are the accuracies of each class\n",
    "cm.diagonal()"
   ]
  },
  {
   "cell_type": "code",
   "execution_count": null,
   "id": "b4a4b3fb",
   "metadata": {},
   "outputs": [],
   "source": [
    "predictions = model.predict(X_test)"
   ]
  },
  {
   "cell_type": "code",
   "execution_count": null,
   "id": "2d0f75eb",
   "metadata": {},
   "outputs": [],
   "source": [
    "y_test[0], predictions[0]"
   ]
  },
  {
   "cell_type": "code",
   "execution_count": null,
   "id": "83605db0",
   "metadata": {},
   "outputs": [],
   "source": [
    "y_test[1], predictions[1]"
   ]
  },
  {
   "cell_type": "raw",
   "id": "4a2192ed",
   "metadata": {},
   "source": [
    "TS = 5\n",
    "Without Class weights : 43%\n",
    "With class weights : 10%\n"
   ]
  }
 ],
 "metadata": {
  "kernelspec": {
   "display_name": "Python 3",
   "language": "python",
   "name": "python3"
  },
  "language_info": {
   "codemirror_mode": {
    "name": "ipython",
    "version": 3
   },
   "file_extension": ".py",
   "mimetype": "text/x-python",
   "name": "python",
   "nbconvert_exporter": "python",
   "pygments_lexer": "ipython3",
   "version": "3.7.10"
  }
 },
 "nbformat": 4,
 "nbformat_minor": 5
}
