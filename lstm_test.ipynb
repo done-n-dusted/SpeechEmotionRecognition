{
 "cells": [
  {
   "cell_type": "code",
   "execution_count": 3,
   "id": "323c8964",
   "metadata": {},
   "outputs": [],
   "source": [
    "import numpy as np"
   ]
  },
  {
   "cell_type": "raw",
   "id": "39c7974f",
   "metadata": {},
   "source": [
    "# save np.load\n",
    "np_load_old = np.load\n",
    "\n",
    "# modify the default parameters of np.load\n",
    "np.load = lambda *a,**k: np_load_old(*a, allow_pickle=True, **k)\n",
    "\n",
    "# call load_data with allow_pickle implicitly set to true\n",
    "(train_data, train_labels), (test_data, test_labels) = imdb.load_data(num_words=10000)\n",
    "\n",
    "# restore np.load for future normal usage\n",
    "np.load = np_load_old"
   ]
  },
  {
   "cell_type": "code",
   "execution_count": 4,
   "id": "b0479631",
   "metadata": {},
   "outputs": [],
   "source": [
    "X_train, y_train, X_test, y_test, X_dev, y_dev = np.load('./all_data.npy', allow_pickle = True)"
   ]
  },
  {
   "cell_type": "code",
   "execution_count": 5,
   "id": "db26577d",
   "metadata": {},
   "outputs": [],
   "source": [
    "def make_X(x):\n",
    "    res = []\n",
    "    x = x[767:]\n",
    "    for i in range(0, x.shape[0], 768):\n",
    "#         print(i)\n",
    "        res.append(np.array(x[i:i+768]))\n",
    "#     print(np.array(res).shape)\n",
    "    return np.array(res)"
   ]
  },
  {
   "cell_type": "code",
   "execution_count": 6,
   "id": "25bc3a47",
   "metadata": {},
   "outputs": [],
   "source": [
    "X_train, X_test, X_dev = make_X(X_train), make_X(X_test), make_X(X_dev)"
   ]
  },
  {
   "cell_type": "code",
   "execution_count": 7,
   "id": "804d0411",
   "metadata": {},
   "outputs": [],
   "source": [
    "num_classes = 7\n",
    "timestep = 20"
   ]
  },
  {
   "cell_type": "raw",
   "id": "19939905",
   "metadata": {},
   "source": [
    "tmp_train = np.reshape(X_train[0], (1, len(X_train[0])))\n",
    "print(tmp_train.shape)\n",
    "tmp_train = np.repeat(tmp_train, timestep, axis=0)\n",
    "print(tmp_train.shape)\n",
    "print(len(tmp_train[0]))\n",
    "print(len(tmp_train[:,:]))\n",
    "ab = np.reshape(tmp_train, (1, len(tmp_train[:,:]), len(tmp_train[0])))\n",
    "print(ab.shape)\n",
    "print(X_train.shape[0])\n",
    "X_train = np.repeat( ab, X_train.shape[0], axis=0)\n",
    "print(X_train.shape)"
   ]
  },
  {
   "cell_type": "code",
   "execution_count": 8,
   "id": "169707d8",
   "metadata": {},
   "outputs": [],
   "source": [
    "def expand_on_time(X, timestep = 20):\n",
    "    tmp = np.reshape(X[0], (1, len(X[0])))\n",
    "#     print(tmp.shape)\n",
    "    tmp = np.repeat(tmp, timestep, axis = 0)\n",
    "#     print(tmp.shape)\n",
    "    ab = np.reshape(tmp, (1, len(tmp[:,:]), len(tmp[0])))\n",
    "#     print(ab.shape)\n",
    "#     print(X.shape)\n",
    "    X = np.repeat(ab, X.shape[0], axis = 0)\n",
    "#     print(X.shape)\n",
    "    return X"
   ]
  },
  {
   "cell_type": "code",
   "execution_count": 9,
   "id": "d38cf793",
   "metadata": {},
   "outputs": [],
   "source": [
    "X_train, X_test, X_dev = expand_on_time(X_train), expand_on_time(X_test), expand_on_time(X_dev)"
   ]
  },
  {
   "cell_type": "code",
   "execution_count": 10,
   "id": "91dacbd9",
   "metadata": {},
   "outputs": [
    {
     "data": {
      "text/plain": [
       "((9989, 20, 768), (2610, 20, 768), (1109, 20, 768))"
      ]
     },
     "execution_count": 10,
     "metadata": {},
     "output_type": "execute_result"
    }
   ],
   "source": [
    "X_train.shape, X_test.shape, X_dev.shape"
   ]
  },
  {
   "cell_type": "code",
   "execution_count": 11,
   "id": "878ca93c",
   "metadata": {},
   "outputs": [],
   "source": [
    "from keras.models import Sequential\n",
    "from keras.layers import Dense, Dropout, Activation, Flatten, LSTM\n",
    "from keras.optimizers import RMSprop, SGD"
   ]
  },
  {
   "cell_type": "code",
   "execution_count": 12,
   "id": "4703d615",
   "metadata": {},
   "outputs": [],
   "source": [
    "timestep = 20\n",
    "\n",
    "model = Sequential()\n",
    "model.add(LSTM(64, input_shape=(timestep, 768), return_sequences=True))\n",
    "model.add(Dropout(0.5))\n",
    "model.add(LSTM(32))\n",
    "model.add(Dropout(0.5))\n",
    "model.add(Activation('softmax'))\n",
    "model.add(Dense(num_classes))\n",
    "\n",
    "sgd = SGD(lr=0.001, decay=1e-6, momentum=0.9, nesterov=True)\n",
    "#rms = RMSprop(lr=0.001, rho=0.9, epsilon=1e-08, decay=0.0)\n",
    "\n",
    "model.compile(loss='categorical_crossentropy',\n",
    "              optimizer=sgd,\n",
    "              metrics=['accuracy'])"
   ]
  },
  {
   "cell_type": "code",
   "execution_count": 13,
   "id": "b089b876",
   "metadata": {},
   "outputs": [
    {
     "name": "stdout",
     "output_type": "stream",
     "text": [
      "Model: \"sequential\"\n",
      "_________________________________________________________________\n",
      "Layer (type)                 Output Shape              Param #   \n",
      "=================================================================\n",
      "lstm (LSTM)                  (None, 20, 64)            213248    \n",
      "_________________________________________________________________\n",
      "dropout (Dropout)            (None, 20, 64)            0         \n",
      "_________________________________________________________________\n",
      "lstm_1 (LSTM)                (None, 32)                12416     \n",
      "_________________________________________________________________\n",
      "dropout_1 (Dropout)          (None, 32)                0         \n",
      "_________________________________________________________________\n",
      "activation (Activation)      (None, 32)                0         \n",
      "_________________________________________________________________\n",
      "dense (Dense)                (None, 7)                 231       \n",
      "=================================================================\n",
      "Total params: 225,895\n",
      "Trainable params: 225,895\n",
      "Non-trainable params: 0\n",
      "_________________________________________________________________\n"
     ]
    }
   ],
   "source": [
    "model.summary()"
   ]
  },
  {
   "cell_type": "code",
   "execution_count": 14,
   "id": "c64287ab",
   "metadata": {},
   "outputs": [],
   "source": [
    "from keras.callbacks import EarlyStopping\n",
    "early_stopping = EarlyStopping(monitor='val_loss', patience=10)\n"
   ]
  },
  {
   "cell_type": "code",
   "execution_count": null,
   "id": "0f232c27",
   "metadata": {},
   "outputs": [],
   "source": [
    "hist = model.fit(X_train, y_train, \n",
    "                 validation_data = (X_dev, y_dev), \n",
    "                 verbose=1, \n",
    "                 epochs=10, batch_size=32, \n",
    "                 shuffle=False, callbacks=[early_stopping])"
   ]
  },
  {
   "cell_type": "code",
   "execution_count": null,
   "id": "c68d0358",
   "metadata": {},
   "outputs": [],
   "source": []
  },
  {
   "cell_type": "code",
   "execution_count": null,
   "id": "14c00378",
   "metadata": {},
   "outputs": [],
   "source": []
  },
  {
   "cell_type": "code",
   "execution_count": null,
   "id": "ad6c6fab",
   "metadata": {},
   "outputs": [],
   "source": []
  }
 ],
 "metadata": {
  "kernelspec": {
   "display_name": "Python 3",
   "language": "python",
   "name": "python3"
  },
  "language_info": {
   "codemirror_mode": {
    "name": "ipython",
    "version": 3
   },
   "file_extension": ".py",
   "mimetype": "text/x-python",
   "name": "python",
   "nbconvert_exporter": "python",
   "pygments_lexer": "ipython3",
   "version": "3.8.10"
  }
 },
 "nbformat": 4,
 "nbformat_minor": 5
}
