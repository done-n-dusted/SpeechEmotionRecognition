{
 "cells": [
  {
   "cell_type": "raw",
   "id": "1a12b16b",
   "metadata": {},
   "source": [
    "'anger', 'disgust', 'fear', 'joy', 'neutral', 'sadness', 'surprise'"
   ]
  },
  {
   "cell_type": "code",
   "execution_count": 1,
   "id": "323c8964",
   "metadata": {},
   "outputs": [],
   "source": [
    "import numpy as np"
   ]
  },
  {
   "cell_type": "code",
   "execution_count": 2,
   "id": "b0479631",
   "metadata": {},
   "outputs": [],
   "source": [
    "X_train, y_train, X_test, y_test, X_dev, y_dev = np.load('./all_data.npy', allow_pickle = True)"
   ]
  },
  {
   "cell_type": "code",
   "execution_count": 3,
   "id": "db26577d",
   "metadata": {},
   "outputs": [],
   "source": [
    "def make_X(x):\n",
    "    res = []\n",
    "    x = x[767:]\n",
    "    for i in range(0, x.shape[0], 768):\n",
    "#         print(i)\n",
    "        res.append(np.array(x[i:i+768]))\n",
    "    print(np.array(res).shape)\n",
    "    return np.array(res)"
   ]
  },
  {
   "cell_type": "code",
   "execution_count": 4,
   "id": "25bc3a47",
   "metadata": {},
   "outputs": [
    {
     "name": "stdout",
     "output_type": "stream",
     "text": [
      "(9989, 768)\n",
      "(2610, 768)\n",
      "(1109, 768)\n"
     ]
    }
   ],
   "source": [
    "X_train, X_test, X_dev = make_X(X_train), make_X(X_test), make_X(X_dev)"
   ]
  },
  {
   "cell_type": "code",
   "execution_count": 5,
   "id": "606d8719",
   "metadata": {},
   "outputs": [],
   "source": [
    "from sklearn import preprocessing\n",
    "\n",
    "min_max_scaler = preprocessing.StandardScaler()\n",
    "X_train = min_max_scaler.fit_transform(X_train)\n",
    "X_test = min_max_scaler.transform(X_test)\n",
    "X_dev = min_max_scaler.transform(X_dev)"
   ]
  },
  {
   "cell_type": "code",
   "execution_count": 6,
   "id": "804d0411",
   "metadata": {},
   "outputs": [],
   "source": [
    "num_classes = 7\n",
    "time_step = 30"
   ]
  },
  {
   "cell_type": "raw",
   "id": "19939905",
   "metadata": {},
   "source": [
    "tmp_train = np.reshape(X_train[0], (1, len(X_train[0])))\n",
    "print(tmp_train.shape)\n",
    "tmp_train = np.repeat(tmp_train, timestep, axis=0)\n",
    "print(tmp_train.shape)\n",
    "print(len(tmp_train[0]))\n",
    "print(len(tmp_train[:,:]))\n",
    "ab = np.reshape(tmp_train, (1, len(tmp_train[:,:]), len(tmp_train[0])))\n",
    "print(ab.shape)\n",
    "print(X_train.shape[0])\n",
    "X_train = np.repeat( ab, X_train.shape[0], axis=0)\n",
    "print(X_train.shape)"
   ]
  },
  {
   "cell_type": "code",
   "execution_count": 7,
   "id": "169707d8",
   "metadata": {},
   "outputs": [],
   "source": [
    "def expand_on_time(X, timestep = time_step):\n",
    "    tmp = np.reshape(X[0], (1, len(X[0])))\n",
    "#     print(tmp.shape)\n",
    "    tmp = np.repeat(tmp, timestep, axis = 0)\n",
    "#     print(tmp.shape)\n",
    "    ab = np.reshape(tmp, (1, len(tmp[:,:]), len(tmp[0])))\n",
    "#     print(ab.shape)\n",
    "#     print(X.shape)\n",
    "    X = np.repeat(ab, X.shape[0], axis = 0)\n",
    "#     print(X.shape)\n",
    "    return X"
   ]
  },
  {
   "cell_type": "code",
   "execution_count": 8,
   "id": "d38cf793",
   "metadata": {},
   "outputs": [],
   "source": [
    "# X_train, X_test, X_dev = expand_on_time(X_train), expand_on_time(X_test), expand_on_time(X_dev)"
   ]
  },
  {
   "cell_type": "code",
   "execution_count": 9,
   "id": "1527bb86",
   "metadata": {},
   "outputs": [],
   "source": [
    "import pandas as pd\n",
    "\n",
    "loly = pd.DataFrame(y_train, columns = range(0,7))"
   ]
  },
  {
   "cell_type": "raw",
   "id": "2af6c2ec",
   "metadata": {},
   "source": [
    "arr = [0]*7\n",
    "for i in range(7):\n",
    "    arr[i] = loly[i].value_counts().loc[1]\n",
    "# arr = np.array(arr)\n",
    "mx = max(arr)\n",
    "for i in range(7):\n",
    "    print(arr[i], mx, mx/arr[i])\n",
    "    arr[i] = mx/arr[i]\n",
    "# arr = 1.5*(1 - arr/max(arr))\n",
    "arr"
   ]
  },
  {
   "cell_type": "code",
   "execution_count": 10,
   "id": "92cda87e",
   "metadata": {},
   "outputs": [],
   "source": [
    "arr = [4.0, 15.0, 15.0, 3.0, 1.0, 6.0, 3.0]"
   ]
  },
  {
   "cell_type": "code",
   "execution_count": 11,
   "id": "64c350d6",
   "metadata": {},
   "outputs": [],
   "source": [
    "from tensorflow.keras.models import Sequential\n",
    "from tensorflow.keras.layers import Dense, Dropout, Activation, Flatten, LSTM, Bidirectional, Input\n",
    "from tensorflow.keras.optimizers import RMSprop, SGD"
   ]
  },
  {
   "cell_type": "code",
   "execution_count": 12,
   "id": "1dc2e0db",
   "metadata": {},
   "outputs": [
    {
     "data": {
      "text/plain": [
       "(9989, 768)"
      ]
     },
     "execution_count": 12,
     "metadata": {},
     "output_type": "execute_result"
    }
   ],
   "source": [
    "X_train.shape"
   ]
  },
  {
   "cell_type": "code",
   "execution_count": 13,
   "id": "4703d615",
   "metadata": {},
   "outputs": [],
   "source": [
    "import tensorflow as tf\n",
    "\n",
    "with tf.device('/GPU:0'):\n",
    "\n",
    "    model = Sequential()\n",
    "#     model.add(LSTM(800, input_shape=(time_step, 768), return_sequences=True))\n",
    "#     model.add(LSTM(10))\n",
    "#     model.add(Dropout(0.5))\n",
    "    # model.add(LSTM(64, return_sequences = True))\n",
    "#     model.add(Dropout(0.4))\n",
    "#     model.add(LSTM(150, return_sequences = True))\n",
    "#     model.add(LSTM(32))\n",
    "#     model.add(Dropout(0.5))\n",
    "    # model.add(Activation('softmax'))\n",
    "    # model.add(Dense(32, activation = 'tanh'))\n",
    "    # model.add(Dropout(0.4))\n",
    "    model.add(Input(shape = (768,)))\n",
    "    model.add(Dense(512, activation = 'relu'))\n",
    "    model.add(Dense(256, activation = 'relu'))\n",
    "    model.add(Dense(128, activation = 'relu'))\n",
    "    model.add(Dropout(0.5))\n",
    "    model.add(Dense(256, activation = 'relu'))\n",
    "    model.add(Dense(64, activation = 'relu'))\n",
    "    model.add(Dense(num_classes, activation = 'softmax'))\n",
    "\n",
    "    sgd = SGD(lr=1e-3, decay=1e-6, momentum=0.9, nesterov=True)\n",
    "    #rms = RMSprop(lr=0.001, rho=0.9, epsilon=1e-08, decay=0.0)\n",
    "\n",
    "    model.compile(loss='categorical_crossentropy',\n",
    "              optimizer='adam',\n",
    "              metrics=['accuracy'])"
   ]
  },
  {
   "cell_type": "code",
   "execution_count": 14,
   "id": "b089b876",
   "metadata": {},
   "outputs": [
    {
     "name": "stdout",
     "output_type": "stream",
     "text": [
      "Model: \"sequential\"\n",
      "_________________________________________________________________\n",
      "Layer (type)                 Output Shape              Param #   \n",
      "=================================================================\n",
      "dense (Dense)                (None, 512)               393728    \n",
      "_________________________________________________________________\n",
      "dense_1 (Dense)              (None, 256)               131328    \n",
      "_________________________________________________________________\n",
      "dense_2 (Dense)              (None, 128)               32896     \n",
      "_________________________________________________________________\n",
      "dropout (Dropout)            (None, 128)               0         \n",
      "_________________________________________________________________\n",
      "dense_3 (Dense)              (None, 256)               33024     \n",
      "_________________________________________________________________\n",
      "dense_4 (Dense)              (None, 64)                16448     \n",
      "_________________________________________________________________\n",
      "dense_5 (Dense)              (None, 7)                 455       \n",
      "=================================================================\n",
      "Total params: 607,879\n",
      "Trainable params: 607,879\n",
      "Non-trainable params: 0\n",
      "_________________________________________________________________\n"
     ]
    }
   ],
   "source": [
    "model.summary()"
   ]
  },
  {
   "cell_type": "code",
   "execution_count": 15,
   "id": "c64287ab",
   "metadata": {},
   "outputs": [],
   "source": [
    "from keras.callbacks import EarlyStopping\n",
    "early_stopping = EarlyStopping(monitor='loss', patience=10)\n"
   ]
  },
  {
   "cell_type": "code",
   "execution_count": 16,
   "id": "aed779bb",
   "metadata": {},
   "outputs": [],
   "source": [
    "class_weights = {}\n",
    "\n",
    "for i in range(7):\n",
    "    class_weights[i] = arr[i]"
   ]
  },
  {
   "cell_type": "code",
   "execution_count": 17,
   "id": "f858bd64",
   "metadata": {},
   "outputs": [
    {
     "data": {
      "text/plain": [
       "{0: 4.0, 1: 15.0, 2: 15.0, 3: 3.0, 4: 1.0, 5: 6.0, 6: 3.0}"
      ]
     },
     "execution_count": 17,
     "metadata": {},
     "output_type": "execute_result"
    }
   ],
   "source": [
    "class_weights"
   ]
  },
  {
   "cell_type": "code",
   "execution_count": 18,
   "id": "4383e4b5",
   "metadata": {},
   "outputs": [
    {
     "name": "stdout",
     "output_type": "stream",
     "text": [
      "Epoch 1/500\n",
      "313/313 [==============================] - 2s 6ms/step - loss: 1.5423 - accuracy: 0.4743 - val_loss: 1.4142 - val_accuracy: 0.5023\n",
      "Epoch 2/500\n",
      "313/313 [==============================] - 2s 6ms/step - loss: 1.3164 - accuracy: 0.5546 - val_loss: 1.4034 - val_accuracy: 0.5293\n",
      "Epoch 3/500\n",
      "313/313 [==============================] - 1s 2ms/step - loss: 1.2843 - accuracy: 0.5726 - val_loss: 1.3415 - val_accuracy: 0.5383\n",
      "Epoch 4/500\n",
      "313/313 [==============================] - 2s 5ms/step - loss: 1.2399 - accuracy: 0.5895 - val_loss: 1.3305 - val_accuracy: 0.5446\n",
      "Epoch 5/500\n",
      "313/313 [==============================] - 1s 5ms/step - loss: 1.2162 - accuracy: 0.5946 - val_loss: 1.3505 - val_accuracy: 0.5410\n",
      "Epoch 6/500\n",
      "313/313 [==============================] - 1s 5ms/step - loss: 1.1947 - accuracy: 0.6074 - val_loss: 1.3161 - val_accuracy: 0.5491\n",
      "Epoch 7/500\n",
      "313/313 [==============================] - 2s 6ms/step - loss: 1.1895 - accuracy: 0.6107 - val_loss: 1.3138 - val_accuracy: 0.5582\n",
      "Epoch 8/500\n",
      "313/313 [==============================] - 2s 6ms/step - loss: 1.1550 - accuracy: 0.6205 - val_loss: 1.3241 - val_accuracy: 0.5645\n",
      "Epoch 9/500\n",
      "313/313 [==============================] - 2s 6ms/step - loss: 1.1849 - accuracy: 0.6113 - val_loss: 1.2999 - val_accuracy: 0.5518\n",
      "Epoch 10/500\n",
      "313/313 [==============================] - 2s 6ms/step - loss: 1.1223 - accuracy: 0.6369 - val_loss: 1.2953 - val_accuracy: 0.5681\n",
      "Epoch 11/500\n",
      "313/313 [==============================] - 2s 6ms/step - loss: 1.1359 - accuracy: 0.6195 - val_loss: 1.2800 - val_accuracy: 0.5672\n",
      "Epoch 12/500\n",
      "313/313 [==============================] - 1s 3ms/step - loss: 1.1189 - accuracy: 0.6289 - val_loss: 1.2826 - val_accuracy: 0.5518\n",
      "Epoch 13/500\n",
      "313/313 [==============================] - 2s 5ms/step - loss: 1.1199 - accuracy: 0.6366 - val_loss: 1.3051 - val_accuracy: 0.5582\n",
      "Epoch 14/500\n",
      "313/313 [==============================] - 2s 6ms/step - loss: 1.0747 - accuracy: 0.6460 - val_loss: 1.2734 - val_accuracy: 0.5798\n",
      "Epoch 15/500\n",
      "313/313 [==============================] - 2s 6ms/step - loss: 1.0744 - accuracy: 0.6478 - val_loss: 1.3029 - val_accuracy: 0.5654\n",
      "Epoch 16/500\n",
      "313/313 [==============================] - 2s 5ms/step - loss: 1.0503 - accuracy: 0.6504 - val_loss: 1.2885 - val_accuracy: 0.5780\n",
      "Epoch 17/500\n",
      "313/313 [==============================] - 2s 6ms/step - loss: 1.0506 - accuracy: 0.6535 - val_loss: 1.2947 - val_accuracy: 0.5735\n",
      "Epoch 18/500\n",
      "313/313 [==============================] - 2s 6ms/step - loss: 1.0559 - accuracy: 0.6449 - val_loss: 1.3249 - val_accuracy: 0.5537\n",
      "Epoch 19/500\n",
      "313/313 [==============================] - 0s 1ms/step - loss: 1.0193 - accuracy: 0.6638 - val_loss: 1.2923 - val_accuracy: 0.5690\n",
      "Epoch 20/500\n",
      "313/313 [==============================] - 2s 6ms/step - loss: 0.9996 - accuracy: 0.6695 - val_loss: 1.3070 - val_accuracy: 0.5654\n",
      "Epoch 21/500\n",
      "313/313 [==============================] - 2s 5ms/step - loss: 1.0371 - accuracy: 0.6513 - val_loss: 1.3136 - val_accuracy: 0.5591\n",
      "Epoch 22/500\n",
      "313/313 [==============================] - 2s 6ms/step - loss: 0.9647 - accuracy: 0.6768 - val_loss: 1.3447 - val_accuracy: 0.5518\n",
      "Epoch 23/500\n",
      "313/313 [==============================] - 2s 6ms/step - loss: 0.9693 - accuracy: 0.6748 - val_loss: 1.3672 - val_accuracy: 0.5555\n",
      "Epoch 24/500\n",
      "313/313 [==============================] - 2s 6ms/step - loss: 0.9425 - accuracy: 0.6847 - val_loss: 1.3942 - val_accuracy: 0.5825\n",
      "Epoch 25/500\n",
      "313/313 [==============================] - 2s 5ms/step - loss: 0.9553 - accuracy: 0.6796 - val_loss: 1.3341 - val_accuracy: 0.5609\n",
      "Epoch 26/500\n",
      "313/313 [==============================] - 2s 5ms/step - loss: 0.9119 - accuracy: 0.6946 - val_loss: 1.3685 - val_accuracy: 0.5726\n",
      "Epoch 27/500\n",
      "313/313 [==============================] - 2s 6ms/step - loss: 0.9042 - accuracy: 0.6975 - val_loss: 1.3736 - val_accuracy: 0.5690\n",
      "Epoch 28/500\n",
      "313/313 [==============================] - 1s 4ms/step - loss: 0.8650 - accuracy: 0.7035 - val_loss: 1.3924 - val_accuracy: 0.5546\n",
      "Epoch 29/500\n",
      "313/313 [==============================] - 2s 6ms/step - loss: 0.8522 - accuracy: 0.7154 - val_loss: 1.4417 - val_accuracy: 0.5464\n",
      "Epoch 30/500\n",
      "313/313 [==============================] - 2s 5ms/step - loss: 0.8612 - accuracy: 0.7058 - val_loss: 1.5313 - val_accuracy: 0.5771\n",
      "Epoch 31/500\n",
      "313/313 [==============================] - 2s 6ms/step - loss: 0.8418 - accuracy: 0.7122 - val_loss: 1.4598 - val_accuracy: 0.5564\n",
      "Epoch 32/500\n",
      "313/313 [==============================] - 1s 5ms/step - loss: 0.7880 - accuracy: 0.7290 - val_loss: 1.4940 - val_accuracy: 0.5600\n",
      "Epoch 33/500\n",
      "313/313 [==============================] - 2s 6ms/step - loss: 0.7806 - accuracy: 0.7403 - val_loss: 1.5275 - val_accuracy: 0.5582\n",
      "Epoch 34/500\n",
      "313/313 [==============================] - 2s 6ms/step - loss: 0.8034 - accuracy: 0.7251 - val_loss: 1.5697 - val_accuracy: 0.5347\n",
      "Epoch 35/500\n",
      "313/313 [==============================] - 2s 5ms/step - loss: 0.7556 - accuracy: 0.7467 - val_loss: 1.6875 - val_accuracy: 0.5392\n",
      "Epoch 36/500\n",
      "313/313 [==============================] - 2s 5ms/step - loss: 0.7290 - accuracy: 0.7473 - val_loss: 1.6945 - val_accuracy: 0.5537\n",
      "Epoch 37/500\n",
      "313/313 [==============================] - 2s 6ms/step - loss: 0.7566 - accuracy: 0.7409 - val_loss: 1.7060 - val_accuracy: 0.5500\n",
      "Epoch 38/500\n",
      "313/313 [==============================] - 2s 6ms/step - loss: 0.7188 - accuracy: 0.7484 - val_loss: 1.6325 - val_accuracy: 0.5437\n",
      "Epoch 39/500\n",
      "313/313 [==============================] - 2s 6ms/step - loss: 0.7294 - accuracy: 0.7515 - val_loss: 1.7031 - val_accuracy: 0.5437\n",
      "Epoch 40/500\n",
      "313/313 [==============================] - 1s 4ms/step - loss: 0.6899 - accuracy: 0.7646 - val_loss: 1.7483 - val_accuracy: 0.5365\n",
      "Epoch 41/500\n",
      "313/313 [==============================] - 1s 4ms/step - loss: 0.6717 - accuracy: 0.7684 - val_loss: 1.7555 - val_accuracy: 0.5473\n",
      "Epoch 42/500\n",
      "313/313 [==============================] - 1s 2ms/step - loss: 0.6407 - accuracy: 0.7778 - val_loss: 1.8532 - val_accuracy: 0.5491\n",
      "Epoch 43/500\n",
      "313/313 [==============================] - 2s 6ms/step - loss: 0.6632 - accuracy: 0.7712 - val_loss: 1.9908 - val_accuracy: 0.5266\n",
      "Epoch 44/500\n",
      "313/313 [==============================] - 2s 5ms/step - loss: 0.6475 - accuracy: 0.7818 - val_loss: 1.9846 - val_accuracy: 0.5329\n",
      "Epoch 45/500\n",
      "313/313 [==============================] - 2s 6ms/step - loss: 0.6470 - accuracy: 0.7796 - val_loss: 1.8316 - val_accuracy: 0.5509\n",
      "Epoch 46/500\n",
      "313/313 [==============================] - 0s 1ms/step - loss: 0.6091 - accuracy: 0.7900 - val_loss: 2.1556 - val_accuracy: 0.5257\n",
      "Epoch 47/500\n",
      "313/313 [==============================] - 2s 5ms/step - loss: 0.6145 - accuracy: 0.7917 - val_loss: 2.1264 - val_accuracy: 0.5293\n",
      "Epoch 48/500\n",
      "313/313 [==============================] - 2s 5ms/step - loss: 0.6078 - accuracy: 0.7944 - val_loss: 2.1083 - val_accuracy: 0.5437\n",
      "Epoch 49/500\n",
      "313/313 [==============================] - 2s 6ms/step - loss: 0.5903 - accuracy: 0.8009 - val_loss: 2.0208 - val_accuracy: 0.5401\n",
      "Epoch 50/500\n",
      "313/313 [==============================] - 2s 5ms/step - loss: 0.5923 - accuracy: 0.7956 - val_loss: 2.0929 - val_accuracy: 0.5410\n",
      "Epoch 51/500\n",
      "313/313 [==============================] - 0s 1ms/step - loss: 0.5578 - accuracy: 0.8027 - val_loss: 2.1223 - val_accuracy: 0.5401\n",
      "Epoch 52/500\n",
      "313/313 [==============================] - 0s 1ms/step - loss: 0.5628 - accuracy: 0.8060 - val_loss: 2.1566 - val_accuracy: 0.5329\n",
      "Epoch 53/500\n",
      "313/313 [==============================] - 1s 2ms/step - loss: 0.5649 - accuracy: 0.8051 - val_loss: 2.0794 - val_accuracy: 0.5257\n",
      "Epoch 54/500\n",
      "313/313 [==============================] - 1s 5ms/step - loss: 0.5524 - accuracy: 0.8133 - val_loss: 2.0793 - val_accuracy: 0.5446\n",
      "Epoch 55/500\n",
      "313/313 [==============================] - 2s 6ms/step - loss: 0.5069 - accuracy: 0.8229 - val_loss: 2.0797 - val_accuracy: 0.5194\n",
      "Epoch 56/500\n",
      "313/313 [==============================] - 2s 6ms/step - loss: 0.5342 - accuracy: 0.8127 - val_loss: 2.1253 - val_accuracy: 0.5275\n",
      "Epoch 57/500\n",
      "313/313 [==============================] - 2s 6ms/step - loss: 0.5580 - accuracy: 0.8131 - val_loss: 2.2154 - val_accuracy: 0.5491\n"
     ]
    },
    {
     "name": "stdout",
     "output_type": "stream",
     "text": [
      "Epoch 58/500\n",
      "313/313 [==============================] - 2s 6ms/step - loss: 0.5297 - accuracy: 0.8214 - val_loss: 2.5637 - val_accuracy: 0.5419\n",
      "Epoch 59/500\n",
      "313/313 [==============================] - 2s 6ms/step - loss: 0.5003 - accuracy: 0.8288 - val_loss: 2.3494 - val_accuracy: 0.5329\n",
      "Epoch 60/500\n",
      "313/313 [==============================] - 2s 6ms/step - loss: 0.5099 - accuracy: 0.8200 - val_loss: 2.1860 - val_accuracy: 0.5374\n",
      "Epoch 61/500\n",
      "313/313 [==============================] - 0s 1ms/step - loss: 0.5071 - accuracy: 0.8254 - val_loss: 2.2203 - val_accuracy: 0.5239\n",
      "Epoch 62/500\n",
      "313/313 [==============================] - 2s 5ms/step - loss: 0.4909 - accuracy: 0.8309 - val_loss: 2.1193 - val_accuracy: 0.5311\n",
      "Epoch 63/500\n",
      "313/313 [==============================] - 0s 1ms/step - loss: 0.4728 - accuracy: 0.8407 - val_loss: 2.2901 - val_accuracy: 0.5374\n",
      "Epoch 64/500\n",
      "313/313 [==============================] - 2s 6ms/step - loss: 0.4927 - accuracy: 0.8353 - val_loss: 2.5458 - val_accuracy: 0.5392\n",
      "Epoch 65/500\n",
      "313/313 [==============================] - 1s 3ms/step - loss: 0.4584 - accuracy: 0.8438 - val_loss: 2.4357 - val_accuracy: 0.5383\n",
      "Epoch 66/500\n",
      "313/313 [==============================] - 2s 6ms/step - loss: 0.4617 - accuracy: 0.8502 - val_loss: 2.4949 - val_accuracy: 0.5302\n",
      "Epoch 67/500\n",
      "313/313 [==============================] - 2s 5ms/step - loss: 0.4778 - accuracy: 0.8416 - val_loss: 2.6520 - val_accuracy: 0.5374\n",
      "Epoch 68/500\n",
      "313/313 [==============================] - 2s 5ms/step - loss: 0.4859 - accuracy: 0.8373 - val_loss: 2.3136 - val_accuracy: 0.5221\n",
      "Epoch 69/500\n",
      "313/313 [==============================] - 1s 5ms/step - loss: 0.4575 - accuracy: 0.8422 - val_loss: 2.5176 - val_accuracy: 0.5203\n",
      "Epoch 70/500\n",
      "313/313 [==============================] - 1s 3ms/step - loss: 0.4544 - accuracy: 0.8465 - val_loss: 2.3897 - val_accuracy: 0.5293\n",
      "Epoch 71/500\n",
      "313/313 [==============================] - 1s 4ms/step - loss: 0.4301 - accuracy: 0.8540 - val_loss: 2.4438 - val_accuracy: 0.5176\n",
      "Epoch 72/500\n",
      "313/313 [==============================] - 1s 4ms/step - loss: 0.4480 - accuracy: 0.8518 - val_loss: 2.4324 - val_accuracy: 0.5284\n",
      "Epoch 73/500\n",
      "313/313 [==============================] - 2s 6ms/step - loss: 0.4448 - accuracy: 0.8466 - val_loss: 2.6591 - val_accuracy: 0.5320\n",
      "Epoch 74/500\n",
      "313/313 [==============================] - 0s 1ms/step - loss: 0.4347 - accuracy: 0.8558 - val_loss: 2.6763 - val_accuracy: 0.5221\n",
      "Epoch 75/500\n",
      "313/313 [==============================] - 0s 1ms/step - loss: 0.4266 - accuracy: 0.8561 - val_loss: 2.3874 - val_accuracy: 0.5239\n",
      "Epoch 76/500\n",
      "313/313 [==============================] - 2s 6ms/step - loss: 0.3963 - accuracy: 0.8697 - val_loss: 2.6698 - val_accuracy: 0.5248\n",
      "Epoch 77/500\n",
      "313/313 [==============================] - 1s 4ms/step - loss: 0.4231 - accuracy: 0.8592 - val_loss: 2.4918 - val_accuracy: 0.5284\n",
      "Epoch 78/500\n",
      "313/313 [==============================] - 2s 6ms/step - loss: 0.4311 - accuracy: 0.8615 - val_loss: 2.4382 - val_accuracy: 0.5149\n",
      "Epoch 79/500\n",
      "313/313 [==============================] - 2s 5ms/step - loss: 0.4266 - accuracy: 0.8511 - val_loss: 2.6741 - val_accuracy: 0.5374\n",
      "Epoch 80/500\n",
      "313/313 [==============================] - 1s 2ms/step - loss: 0.4337 - accuracy: 0.8538 - val_loss: 2.7511 - val_accuracy: 0.5302\n",
      "Epoch 81/500\n",
      "313/313 [==============================] - 2s 5ms/step - loss: 0.4007 - accuracy: 0.8645 - val_loss: 2.7948 - val_accuracy: 0.5086\n",
      "Epoch 82/500\n",
      "313/313 [==============================] - 2s 6ms/step - loss: 0.4384 - accuracy: 0.8560 - val_loss: 2.8541 - val_accuracy: 0.5275\n",
      "Epoch 83/500\n",
      "313/313 [==============================] - 2s 6ms/step - loss: 0.4124 - accuracy: 0.8607 - val_loss: 2.7380 - val_accuracy: 0.5302\n",
      "Epoch 84/500\n",
      "313/313 [==============================] - 2s 6ms/step - loss: 0.3850 - accuracy: 0.8681 - val_loss: 2.7579 - val_accuracy: 0.5248\n",
      "Epoch 85/500\n",
      "313/313 [==============================] - 2s 5ms/step - loss: 0.4200 - accuracy: 0.8585 - val_loss: 2.6281 - val_accuracy: 0.5149\n",
      "Epoch 86/500\n",
      "313/313 [==============================] - 2s 5ms/step - loss: 0.3773 - accuracy: 0.8685 - val_loss: 2.8229 - val_accuracy: 0.5005\n",
      "Epoch 87/500\n",
      "313/313 [==============================] - 1s 5ms/step - loss: 0.3621 - accuracy: 0.8804 - val_loss: 2.7936 - val_accuracy: 0.5266\n",
      "Epoch 88/500\n",
      "313/313 [==============================] - 2s 5ms/step - loss: 0.3703 - accuracy: 0.8738 - val_loss: 3.0460 - val_accuracy: 0.5077\n",
      "Epoch 89/500\n",
      "313/313 [==============================] - 2s 6ms/step - loss: 0.3894 - accuracy: 0.8666 - val_loss: 2.6830 - val_accuracy: 0.5212\n",
      "Epoch 90/500\n",
      "313/313 [==============================] - 1s 3ms/step - loss: 0.3755 - accuracy: 0.8755 - val_loss: 3.0385 - val_accuracy: 0.5104\n",
      "Epoch 91/500\n",
      "313/313 [==============================] - 2s 6ms/step - loss: 0.3916 - accuracy: 0.8696 - val_loss: 2.7031 - val_accuracy: 0.5131\n",
      "Epoch 92/500\n",
      "313/313 [==============================] - 1s 2ms/step - loss: 0.3976 - accuracy: 0.8686 - val_loss: 2.8232 - val_accuracy: 0.5158\n",
      "Epoch 93/500\n",
      "313/313 [==============================] - 2s 5ms/step - loss: 0.3751 - accuracy: 0.8828 - val_loss: 2.8078 - val_accuracy: 0.5077\n",
      "Epoch 94/500\n",
      "313/313 [==============================] - 1s 4ms/step - loss: 0.3542 - accuracy: 0.8821 - val_loss: 2.8725 - val_accuracy: 0.5158\n",
      "Epoch 95/500\n",
      "313/313 [==============================] - 2s 5ms/step - loss: 0.3964 - accuracy: 0.8693 - val_loss: 2.9800 - val_accuracy: 0.4869\n",
      "Epoch 96/500\n",
      "313/313 [==============================] - 2s 6ms/step - loss: 0.3920 - accuracy: 0.8718 - val_loss: 2.6758 - val_accuracy: 0.5203\n",
      "Epoch 97/500\n",
      "313/313 [==============================] - 2s 6ms/step - loss: 0.3621 - accuracy: 0.8847 - val_loss: 2.6543 - val_accuracy: 0.5293\n",
      "Epoch 98/500\n",
      "313/313 [==============================] - 2s 5ms/step - loss: 0.3743 - accuracy: 0.8778 - val_loss: 3.0108 - val_accuracy: 0.5149\n",
      "Epoch 99/500\n",
      "313/313 [==============================] - 2s 6ms/step - loss: 0.3238 - accuracy: 0.8904 - val_loss: 2.3856 - val_accuracy: 0.5302\n",
      "Epoch 100/500\n",
      "313/313 [==============================] - 2s 5ms/step - loss: 0.3678 - accuracy: 0.8777 - val_loss: 2.7509 - val_accuracy: 0.5131\n",
      "Epoch 101/500\n",
      "313/313 [==============================] - 1s 4ms/step - loss: 0.3364 - accuracy: 0.8878 - val_loss: 2.8803 - val_accuracy: 0.5158\n",
      "Epoch 102/500\n",
      "313/313 [==============================] - 0s 1ms/step - loss: 0.3410 - accuracy: 0.8854 - val_loss: 2.4919 - val_accuracy: 0.5122\n",
      "Epoch 103/500\n",
      "313/313 [==============================] - 1s 4ms/step - loss: 0.3857 - accuracy: 0.8725 - val_loss: 2.8866 - val_accuracy: 0.5095\n",
      "Epoch 104/500\n",
      "313/313 [==============================] - 2s 6ms/step - loss: 0.3542 - accuracy: 0.8835 - val_loss: 2.4111 - val_accuracy: 0.5212\n",
      "Epoch 105/500\n",
      "313/313 [==============================] - 2s 5ms/step - loss: 0.3394 - accuracy: 0.8852 - val_loss: 2.9092 - val_accuracy: 0.5077\n",
      "Epoch 106/500\n",
      "313/313 [==============================] - 2s 6ms/step - loss: 0.2962 - accuracy: 0.9011 - val_loss: 2.8114 - val_accuracy: 0.5032\n",
      "Epoch 107/500\n",
      "313/313 [==============================] - 2s 6ms/step - loss: 0.3424 - accuracy: 0.8832 - val_loss: 2.8741 - val_accuracy: 0.5158\n",
      "Epoch 108/500\n",
      "313/313 [==============================] - 2s 6ms/step - loss: 0.3304 - accuracy: 0.8906 - val_loss: 3.1184 - val_accuracy: 0.5086\n",
      "Epoch 109/500\n",
      "313/313 [==============================] - 0s 1ms/step - loss: 0.3728 - accuracy: 0.8777 - val_loss: 3.1265 - val_accuracy: 0.4986\n",
      "Epoch 110/500\n",
      "313/313 [==============================] - 2s 6ms/step - loss: 0.3240 - accuracy: 0.8936 - val_loss: 2.8576 - val_accuracy: 0.5104\n",
      "Epoch 111/500\n",
      "313/313 [==============================] - 1s 4ms/step - loss: 0.3289 - accuracy: 0.8891 - val_loss: 3.0412 - val_accuracy: 0.5149\n",
      "Epoch 112/500\n",
      "313/313 [==============================] - 2s 6ms/step - loss: 0.3364 - accuracy: 0.8918 - val_loss: 2.9978 - val_accuracy: 0.5329\n",
      "Epoch 113/500\n",
      "313/313 [==============================] - 2s 6ms/step - loss: 0.3186 - accuracy: 0.8914 - val_loss: 3.0378 - val_accuracy: 0.5185\n",
      "Epoch 114/500\n",
      "313/313 [==============================] - 1s 4ms/step - loss: 0.3090 - accuracy: 0.8959 - val_loss: 3.1103 - val_accuracy: 0.5176\n"
     ]
    },
    {
     "name": "stdout",
     "output_type": "stream",
     "text": [
      "Epoch 115/500\n",
      "313/313 [==============================] - 1s 4ms/step - loss: 0.3467 - accuracy: 0.8901 - val_loss: 3.1043 - val_accuracy: 0.5176\n",
      "Epoch 116/500\n",
      "313/313 [==============================] - 0s 1ms/step - loss: 0.3098 - accuracy: 0.8935 - val_loss: 2.9284 - val_accuracy: 0.5293\n",
      "Epoch 117/500\n",
      "313/313 [==============================] - 2s 5ms/step - loss: 0.3422 - accuracy: 0.8895 - val_loss: 2.6685 - val_accuracy: 0.5221\n",
      "Epoch 118/500\n",
      "313/313 [==============================] - 0s 1ms/step - loss: 0.3347 - accuracy: 0.8989 - val_loss: 2.9541 - val_accuracy: 0.5176\n",
      "Epoch 119/500\n",
      "313/313 [==============================] - 2s 6ms/step - loss: 0.3291 - accuracy: 0.8963 - val_loss: 2.8581 - val_accuracy: 0.5203\n",
      "Epoch 120/500\n",
      "313/313 [==============================] - 1s 5ms/step - loss: 0.2858 - accuracy: 0.9061 - val_loss: 3.2894 - val_accuracy: 0.5239\n",
      "Epoch 121/500\n",
      "313/313 [==============================] - 1s 4ms/step - loss: 0.3115 - accuracy: 0.8964 - val_loss: 3.0076 - val_accuracy: 0.5113\n",
      "Epoch 122/500\n",
      "313/313 [==============================] - 2s 6ms/step - loss: 0.3085 - accuracy: 0.8974 - val_loss: 2.8844 - val_accuracy: 0.5077\n",
      "Epoch 123/500\n",
      "313/313 [==============================] - 2s 5ms/step - loss: 0.2930 - accuracy: 0.9054 - val_loss: 3.0240 - val_accuracy: 0.5302\n",
      "Epoch 124/500\n",
      "313/313 [==============================] - 2s 6ms/step - loss: 0.3005 - accuracy: 0.8988 - val_loss: 3.0236 - val_accuracy: 0.5131\n",
      "Epoch 125/500\n",
      "313/313 [==============================] - 2s 5ms/step - loss: 0.3711 - accuracy: 0.8803 - val_loss: 3.1914 - val_accuracy: 0.5122\n",
      "Epoch 126/500\n",
      "313/313 [==============================] - 0s 1ms/step - loss: 0.3553 - accuracy: 0.8911 - val_loss: 2.8379 - val_accuracy: 0.5275\n",
      "Epoch 127/500\n",
      "313/313 [==============================] - 0s 1ms/step - loss: 0.3051 - accuracy: 0.8993 - val_loss: 2.7760 - val_accuracy: 0.5068\n",
      "Epoch 128/500\n",
      "313/313 [==============================] - 2s 6ms/step - loss: 0.2849 - accuracy: 0.9054 - val_loss: 2.9291 - val_accuracy: 0.5104\n",
      "Epoch 129/500\n",
      "313/313 [==============================] - 2s 6ms/step - loss: 0.2792 - accuracy: 0.9036 - val_loss: 3.2191 - val_accuracy: 0.5221\n",
      "Epoch 130/500\n",
      "313/313 [==============================] - 1s 3ms/step - loss: 0.3053 - accuracy: 0.8997 - val_loss: 2.9145 - val_accuracy: 0.5050\n",
      "Epoch 131/500\n",
      "313/313 [==============================] - 2s 6ms/step - loss: 0.2882 - accuracy: 0.9026 - val_loss: 2.7816 - val_accuracy: 0.5266\n",
      "Epoch 132/500\n",
      "313/313 [==============================] - 2s 5ms/step - loss: 0.3190 - accuracy: 0.8994 - val_loss: 3.1862 - val_accuracy: 0.5365\n",
      "Epoch 133/500\n",
      "313/313 [==============================] - 0s 1ms/step - loss: 0.2599 - accuracy: 0.9111 - val_loss: 3.0862 - val_accuracy: 0.5140\n",
      "Epoch 134/500\n",
      "313/313 [==============================] - 1s 3ms/step - loss: 0.2897 - accuracy: 0.9080 - val_loss: 3.2450 - val_accuracy: 0.5131\n",
      "Epoch 135/500\n",
      "313/313 [==============================] - 2s 5ms/step - loss: 0.2750 - accuracy: 0.9107 - val_loss: 3.3585 - val_accuracy: 0.5131\n",
      "Epoch 136/500\n",
      "313/313 [==============================] - 0s 1ms/step - loss: 0.2946 - accuracy: 0.9075 - val_loss: 2.9139 - val_accuracy: 0.5302\n",
      "Epoch 137/500\n",
      "313/313 [==============================] - 2s 6ms/step - loss: 0.3174 - accuracy: 0.8979 - val_loss: 2.9936 - val_accuracy: 0.5248\n",
      "Epoch 138/500\n",
      "313/313 [==============================] - 2s 6ms/step - loss: 0.2887 - accuracy: 0.9077 - val_loss: 3.1194 - val_accuracy: 0.5005\n",
      "Epoch 139/500\n",
      "313/313 [==============================] - 2s 6ms/step - loss: 0.3149 - accuracy: 0.8990 - val_loss: 3.3484 - val_accuracy: 0.5203\n",
      "Epoch 140/500\n",
      "313/313 [==============================] - 2s 6ms/step - loss: 0.3645 - accuracy: 0.8821 - val_loss: 3.1029 - val_accuracy: 0.5104\n",
      "Epoch 141/500\n",
      "313/313 [==============================] - 2s 6ms/step - loss: 0.2889 - accuracy: 0.9048 - val_loss: 3.2202 - val_accuracy: 0.5122\n",
      "Epoch 142/500\n",
      "313/313 [==============================] - 2s 5ms/step - loss: 0.2538 - accuracy: 0.9145 - val_loss: 3.1774 - val_accuracy: 0.5158\n",
      "Epoch 143/500\n",
      "313/313 [==============================] - 1s 2ms/step - loss: 0.2818 - accuracy: 0.9074 - val_loss: 3.0202 - val_accuracy: 0.5131\n",
      "Epoch 144/500\n",
      "313/313 [==============================] - 2s 6ms/step - loss: 0.2765 - accuracy: 0.9064 - val_loss: 3.0565 - val_accuracy: 0.5131\n",
      "Epoch 145/500\n",
      "313/313 [==============================] - 1s 2ms/step - loss: 0.2961 - accuracy: 0.9015 - val_loss: 3.0368 - val_accuracy: 0.5032\n",
      "Epoch 146/500\n",
      "313/313 [==============================] - 2s 6ms/step - loss: 0.3017 - accuracy: 0.9018 - val_loss: 3.4581 - val_accuracy: 0.5041\n",
      "Epoch 147/500\n",
      "313/313 [==============================] - 2s 6ms/step - loss: 0.2906 - accuracy: 0.9054 - val_loss: 3.2400 - val_accuracy: 0.5149\n",
      "Epoch 148/500\n",
      "313/313 [==============================] - 0s 1ms/step - loss: 0.2809 - accuracy: 0.9071 - val_loss: 3.2060 - val_accuracy: 0.4914\n",
      "Epoch 149/500\n",
      "313/313 [==============================] - 2s 6ms/step - loss: 0.2838 - accuracy: 0.9097 - val_loss: 3.1546 - val_accuracy: 0.5068\n",
      "Epoch 150/500\n",
      "313/313 [==============================] - 1s 3ms/step - loss: 0.2569 - accuracy: 0.9125 - val_loss: 3.1516 - val_accuracy: 0.4977\n",
      "Epoch 151/500\n",
      "313/313 [==============================] - 0s 1ms/step - loss: 0.2444 - accuracy: 0.9202 - val_loss: 2.8917 - val_accuracy: 0.5086\n",
      "Epoch 152/500\n",
      "313/313 [==============================] - 1s 3ms/step - loss: 0.2818 - accuracy: 0.9063 - val_loss: 3.2890 - val_accuracy: 0.5167\n"
     ]
    }
   ],
   "source": [
    "ist = model.fit(X_train, y_train,\n",
    "                   validation_data = (X_dev, y_dev), \n",
    "#                    validation_set = 0.6,\n",
    "                   verbose=1, \n",
    "                   epochs=500, batch_size=32, \n",
    "                   shuffle=True, callbacks=[early_stopping])"
   ]
  },
  {
   "cell_type": "code",
   "execution_count": 21,
   "id": "281aabe7",
   "metadata": {},
   "outputs": [
    {
     "data": {
      "image/png": "[encoded data removed]",
      "text/plain": [
       "<Figure size 432x288 with 1 Axes>"
      ]
     },
     "metadata": {
      "needs_background": "light"
     },
     "output_type": "display_data"
    }
   ],
   "source": [
    "import matplotlib.pyplot as plt\n",
    "\n",
    "plt.figure()\n",
    "# plt.subplot(1, 2, 1)\n",
    "plt.plot(ist.history['loss'])\n",
    "plt.title('Loss')\n",
    "plt.xlabel('epoch')\n",
    "plt.ylabel('loss')\n",
    "plt.show()"
   ]
  },
  {
   "cell_type": "code",
   "execution_count": 22,
   "id": "c68d0358",
   "metadata": {},
   "outputs": [
    {
     "name": "stdout",
     "output_type": "stream",
     "text": [
      "Test loss: 3.1058566570281982\n",
      "Test accuracy: 0.553639829158783\n"
     ]
    }
   ],
   "source": [
    "score = model.evaluate(X_test, y_test, verbose=0)\n",
    "print('Test loss:', score[0])\n",
    "print('Test accuracy:', score[1])"
   ]
  },
  {
   "cell_type": "code",
   "execution_count": 23,
   "id": "43970952",
   "metadata": {},
   "outputs": [],
   "source": [
    "def get_tfarray(arr):\n",
    "    result = []\n",
    "    for i in arr:\n",
    "        m = np.max(i)\n",
    "        result.append(i == m)\n",
    "    return np.array(result)"
   ]
  },
  {
   "cell_type": "code",
   "execution_count": 24,
   "id": "14c00378",
   "metadata": {},
   "outputs": [
    {
     "name": "stdout",
     "output_type": "stream",
     "text": [
      "              precision    recall  f1-score   support\n",
      "\n",
      "       anger     0.3713    0.2928    0.3274       345\n",
      "     disgust     0.2632    0.0735    0.1149        68\n",
      "        fear     0.0816    0.0800    0.0808        50\n",
      "         joy     0.4477    0.4900    0.4679       402\n",
      "     neutral     0.7027    0.7508    0.7259      1256\n",
      "     sadness     0.3023    0.1875    0.2315       208\n",
      "    surprise     0.4345    0.5552    0.4875       281\n",
      "\n",
      "   micro avg     0.5536    0.5536    0.5536      2610\n",
      "   macro avg     0.3719    0.3471    0.3480      2610\n",
      "weighted avg     0.5355    0.5536    0.5402      2610\n",
      " samples avg     0.5536    0.5536    0.5536      2610\n",
      "\n"
     ]
    }
   ],
   "source": [
    "from sklearn.metrics import classification_report\n",
    "from sklearn.metrics import accuracy_score\n",
    "class_names = ['anger', 'disgust', 'fear', 'joy', 'neutral', 'sadness', 'surprise']\n",
    "\n",
    "\n",
    "y_pred = model.predict(X_test)\n",
    "\n",
    "y_pred = get_tfarray(y_pred)\n",
    "\n",
    "accuracy_score(y_test, y_pred, normalize=False)\n",
    "print(classification_report(y_test, y_pred, target_names=class_names, digits=4))"
   ]
  },
  {
   "cell_type": "code",
   "execution_count": 25,
   "id": "ad6c6fab",
   "metadata": {},
   "outputs": [
    {
     "data": {
      "text/plain": [
       "array([0.29275362, 0.07352941, 0.08      , 0.49004975, 0.75079618,\n",
       "       0.1875    , 0.55516014])"
      ]
     },
     "execution_count": 25,
     "metadata": {},
     "output_type": "execute_result"
    }
   ],
   "source": [
    "from sklearn.metrics import confusion_matrix\n",
    "#Get the confusion matrix\n",
    "\n",
    "\n",
    "#array([[1, 0, 0],\n",
    "#   [1, 0, 0],\n",
    "#   [0, 1, 2]])\n",
    "cm =confusion_matrix(y_test.argmax(axis=1), y_pred.argmax(axis=1))\n",
    "#Now the normalize the diagonal entries\n",
    "cm = cm.astype('float') / cm.sum(axis=1)[:, np.newaxis]\n",
    "#array([[1.        , 0.        , 0.        ],\n",
    "#      [1.        , 0.        , 0.        ],\n",
    "#      [0.        , 0.33333333, 0.66666667]])\n",
    "\n",
    "#The diagonal entries are the accuracies of each class\n",
    "cm.diagonal()"
   ]
  },
  {
   "cell_type": "code",
   "execution_count": 26,
   "id": "b4a4b3fb",
   "metadata": {},
   "outputs": [],
   "source": [
    "predictions = model.predict(X_test)"
   ]
  },
  {
   "cell_type": "code",
   "execution_count": 27,
   "id": "2d0f75eb",
   "metadata": {},
   "outputs": [
    {
     "data": {
      "text/plain": [
       "(array([0, 0, 0, 0, 0, 0, 1]),\n",
       " array([2.4838070e-03, 1.6578076e-04, 4.9461126e-03, 3.6815077e-04,\n",
       "        9.5068258e-01, 4.0471338e-02, 8.8224153e-04], dtype=float32))"
      ]
     },
     "execution_count": 27,
     "metadata": {},
     "output_type": "execute_result"
    }
   ],
   "source": [
    "y_test[0], predictions[0]"
   ]
  },
  {
   "cell_type": "code",
   "execution_count": 28,
   "id": "83605db0",
   "metadata": {},
   "outputs": [
    {
     "data": {
      "text/plain": [
       "(array([0, 0, 0, 0, 1, 0, 0]),\n",
       " array([0.36108568, 0.06568167, 0.04839564, 0.19294956, 0.09595808,\n",
       "        0.19454487, 0.04138446], dtype=float32))"
      ]
     },
     "execution_count": 28,
     "metadata": {},
     "output_type": "execute_result"
    }
   ],
   "source": [
    "y_test[-1], predictions[-1]"
   ]
  },
  {
   "cell_type": "code",
   "execution_count": 29,
   "id": "7ad49d5d",
   "metadata": {},
   "outputs": [
    {
     "data": {
      "text/plain": [
       "(array([6, 0, 4, ..., 4, 4, 4]), array([4, 4, 4, ..., 0, 4, 0]))"
      ]
     },
     "execution_count": 29,
     "metadata": {},
     "output_type": "execute_result"
    }
   ],
   "source": [
    "np.argmax(y_test, axis = 1), np.argmax(predictions, axis = 1)"
   ]
  },
  {
   "cell_type": "code",
   "execution_count": 30,
   "id": "ed8db3f7",
   "metadata": {},
   "outputs": [
    {
     "data": {
      "text/plain": [
       "4    1342\n",
       "3     440\n",
       "6     359\n",
       "0     272\n",
       "5     129\n",
       "2      49\n",
       "1      19\n",
       "dtype: int64"
      ]
     },
     "execution_count": 30,
     "metadata": {},
     "output_type": "execute_result"
    }
   ],
   "source": [
    "pd.DataFrame(np.argmax(predictions, axis = 1)).value_counts()"
   ]
  },
  {
   "cell_type": "raw",
   "id": "0cd95395",
   "metadata": {},
   "source": [
    "Accuracy = TP+TN/TP+FP+FN+TN\n",
    "Precision = TP/TP+FP\n",
    "Recall = TP/TP+FN\n",
    "F1 Score = 2*(Recall * Precision) / (Recall + Precision)"
   ]
  },
  {
   "cell_type": "raw",
   "id": "4a2192ed",
   "metadata": {},
   "source": [
    "TS = 5\n",
    "Without Class weights : 43%\n",
    "With class weights : 10%\n",
    "Without LSTM : 50%"
   ]
  }
 ],
 "metadata": {
  "kernelspec": {
   "display_name": "Python 3",
   "language": "python",
   "name": "python3"
  },
  "language_info": {
   "codemirror_mode": {
    "name": "ipython",
    "version": 3
   },
   "file_extension": ".py",
   "mimetype": "text/x-python",
   "name": "python",
   "nbconvert_exporter": "python",
   "pygments_lexer": "ipython3",
   "version": "3.7.10"
  }
 },
 "nbformat": 4,
 "nbformat_minor": 5
}
