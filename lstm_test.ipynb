{
 "cells": [
  {
   "cell_type": "raw",
   "id": "1a12b16b",
   "metadata": {},
   "source": [
    "'anger', 'disgust', 'fear', 'joy', 'neutral', 'sadness', 'surprise'"
   ]
  },
  {
   "cell_type": "code",
   "execution_count": 2,
   "id": "323c8964",
   "metadata": {},
   "outputs": [],
   "source": [
    "import numpy as np"
   ]
  },
  {
   "cell_type": "code",
   "execution_count": 3,
   "id": "b0479631",
   "metadata": {},
   "outputs": [],
   "source": [
    "X_train, y_train, X_test, y_test, X_dev, y_dev = np.load('./all_data.npy', allow_pickle = True)"
   ]
  },
  {
   "cell_type": "code",
   "execution_count": 4,
   "id": "db26577d",
   "metadata": {},
   "outputs": [],
   "source": [
    "def make_X(x):\n",
    "    res = []\n",
    "    x = x[767:]\n",
    "    for i in range(0, x.shape[0], 768):\n",
    "#         print(i)\n",
    "        res.append(np.array(x[i:i+768]))\n",
    "    print(np.array(res).shape)\n",
    "    return np.array(res)"
   ]
  },
  {
   "cell_type": "code",
   "execution_count": 5,
   "id": "25bc3a47",
   "metadata": {},
   "outputs": [
    {
     "name": "stdout",
     "output_type": "stream",
     "text": [
      "(9989, 768)\n",
      "(2610, 768)\n",
      "(1109, 768)\n"
     ]
    }
   ],
   "source": [
    "X_train, X_test, X_dev = make_X(X_train), make_X(X_test), make_X(X_dev)"
   ]
  },
  {
   "cell_type": "code",
   "execution_count": 6,
   "id": "606d8719",
   "metadata": {},
   "outputs": [],
   "source": [
    "from sklearn import preprocessing\n",
    "\n",
    "min_max_scaler = preprocessing.StandardScaler()\n",
    "X_train = min_max_scaler.fit_transform(X_train)\n",
    "X_test = min_max_scaler.transform(X_test)\n",
    "X_dev = min_max_scaler.transform(X_dev)"
   ]
  },
  {
   "cell_type": "code",
   "execution_count": 7,
   "id": "804d0411",
   "metadata": {},
   "outputs": [],
   "source": [
    "num_classes = 7\n",
    "time_step = 30"
   ]
  },
  {
   "cell_type": "raw",
   "id": "19939905",
   "metadata": {},
   "source": [
    "tmp_train = np.reshape(X_train[0], (1, len(X_train[0])))\n",
    "print(tmp_train.shape)\n",
    "tmp_train = np.repeat(tmp_train, timestep, axis=0)\n",
    "print(tmp_train.shape)\n",
    "print(len(tmp_train[0]))\n",
    "print(len(tmp_train[:,:]))\n",
    "ab = np.reshape(tmp_train, (1, len(tmp_train[:,:]), len(tmp_train[0])))\n",
    "print(ab.shape)\n",
    "print(X_train.shape[0])\n",
    "X_train = np.repeat( ab, X_train.shape[0], axis=0)\n",
    "print(X_train.shape)"
   ]
  },
  {
   "cell_type": "code",
   "execution_count": 8,
   "id": "169707d8",
   "metadata": {},
   "outputs": [],
   "source": [
    "def expand_on_time(X, timestep = time_step):\n",
    "    tmp = np.reshape(X[0], (1, len(X[0])))\n",
    "#     print(tmp.shape)\n",
    "    tmp = np.repeat(tmp, timestep, axis = 0)\n",
    "#     print(tmp.shape)\n",
    "    ab = np.reshape(tmp, (1, len(tmp[:,:]), len(tmp[0])))\n",
    "#     print(ab.shape)\n",
    "#     print(X.shape)\n",
    "    X = np.repeat(ab, X.shape[0], axis = 0)\n",
    "#     print(X.shape)\n",
    "    return X"
   ]
  },
  {
   "cell_type": "code",
   "execution_count": 9,
   "id": "d38cf793",
   "metadata": {},
   "outputs": [],
   "source": [
    "# X_train, X_test, X_dev = expand_on_time(X_train), expand_on_time(X_test), expand_on_time(X_dev)"
   ]
  },
  {
   "cell_type": "code",
   "execution_count": 10,
   "id": "1527bb86",
   "metadata": {},
   "outputs": [],
   "source": [
    "import pandas as pd\n",
    "\n",
    "loly = pd.DataFrame(y_train, columns = range(0,7))"
   ]
  },
  {
   "cell_type": "raw",
   "id": "2af6c2ec",
   "metadata": {},
   "source": [
    "arr = [0]*7\n",
    "for i in range(7):\n",
    "    arr[i] = loly[i].value_counts().loc[1]\n",
    "# arr = np.array(arr)\n",
    "mx = max(arr)\n",
    "for i in range(7):\n",
    "    print(arr[i], mx, mx/arr[i])\n",
    "    arr[i] = mx/arr[i]\n",
    "# arr = 1.5*(1 - arr/max(arr))\n",
    "arr"
   ]
  },
  {
   "cell_type": "code",
   "execution_count": 11,
   "id": "92cda87e",
   "metadata": {},
   "outputs": [],
   "source": [
    "arr = [4.0, 15.0, 15.0, 3.0, 1.0, 6.0, 3.0]"
   ]
  },
  {
   "cell_type": "code",
   "execution_count": 12,
   "id": "64c350d6",
   "metadata": {},
   "outputs": [],
   "source": [
    "from tensorflow.keras.models import Sequential\n",
    "from tensorflow.keras.layers import Dense, Dropout, Activation, Flatten, LSTM, Bidirectional, Input\n",
    "from tensorflow.keras.optimizers import RMSprop, SGD"
   ]
  },
  {
   "cell_type": "code",
   "execution_count": 13,
   "id": "1dc2e0db",
   "metadata": {},
   "outputs": [
    {
     "data": {
      "text/plain": [
       "(9989, 768)"
      ]
     },
     "execution_count": 13,
     "metadata": {},
     "output_type": "execute_result"
    }
   ],
   "source": [
    "X_train.shape"
   ]
  },
  {
   "cell_type": "code",
   "execution_count": 14,
   "id": "4703d615",
   "metadata": {},
   "outputs": [],
   "source": [
    "import tensorflow as tf\n",
    "\n",
    "with tf.device('/GPU:0'):\n",
    "\n",
    "    model = Sequential()\n",
    "#     model.add(LSTM(800, input_shape=(time_step, 768), return_sequences=True))\n",
    "#     model.add(LSTM(10))\n",
    "#     model.add(Dropout(0.5))\n",
    "    # model.add(LSTM(64, return_sequences = True))\n",
    "#     model.add(Dropout(0.4))\n",
    "#     model.add(LSTM(150, return_sequences = True))\n",
    "#     model.add(LSTM(32))\n",
    "#     model.add(Dropout(0.5))\n",
    "    # model.add(Activation('softmax'))\n",
    "    # model.add(Dense(32, activation = 'tanh'))\n",
    "    # model.add(Dropout(0.4))\n",
    "    model.add(Input(shape = (768,)))\n",
    "    model.add(Dense(512, activation = 'relu'))\n",
    "    model.add(Dense(256, activation = 'relu'))\n",
    "    model.add(Dense(128, activation = 'relu'))\n",
    "    model.add(Dropout(0.5))\n",
    "    model.add(Dense(256, activation = 'relu'))\n",
    "    model.add(Dense(64, activation = 'relu'))\n",
    "    model.add(Dense(num_classes, activation = 'softmax'))\n",
    "\n",
    "    sgd = SGD(lr=1e-3, decay=1e-6, momentum=0.9, nesterov=True)\n",
    "    #rms = RMSprop(lr=0.001, rho=0.9, epsilon=1e-08, decay=0.0)\n",
    "\n",
    "    model.compile(loss='categorical_crossentropy',\n",
    "              optimizer='adam',\n",
    "              metrics=['accuracy'])"
   ]
  },
  {
   "cell_type": "code",
   "execution_count": 15,
   "id": "b089b876",
   "metadata": {},
   "outputs": [
    {
     "name": "stdout",
     "output_type": "stream",
     "text": [
      "Model: \"sequential\"\n",
      "_________________________________________________________________\n",
      "Layer (type)                 Output Shape              Param #   \n",
      "=================================================================\n",
      "dense (Dense)                (None, 512)               393728    \n",
      "_________________________________________________________________\n",
      "dense_1 (Dense)              (None, 256)               131328    \n",
      "_________________________________________________________________\n",
      "dense_2 (Dense)              (None, 128)               32896     \n",
      "_________________________________________________________________\n",
      "dropout (Dropout)            (None, 128)               0         \n",
      "_________________________________________________________________\n",
      "dense_3 (Dense)              (None, 256)               33024     \n",
      "_________________________________________________________________\n",
      "dense_4 (Dense)              (None, 64)                16448     \n",
      "_________________________________________________________________\n",
      "dense_5 (Dense)              (None, 7)                 455       \n",
      "=================================================================\n",
      "Total params: 607,879\n",
      "Trainable params: 607,879\n",
      "Non-trainable params: 0\n",
      "_________________________________________________________________\n"
     ]
    }
   ],
   "source": [
    "model.summary()"
   ]
  },
  {
   "cell_type": "code",
   "execution_count": 16,
   "id": "c64287ab",
   "metadata": {},
   "outputs": [],
   "source": [
    "from keras.callbacks import EarlyStopping\n",
    "early_stopping = EarlyStopping(monitor='loss', patience=10)\n"
   ]
  },
  {
   "cell_type": "code",
   "execution_count": 17,
   "id": "aed779bb",
   "metadata": {},
   "outputs": [],
   "source": [
    "class_weights = {}\n",
    "\n",
    "for i in range(7):\n",
    "    class_weights[i] = arr[i]"
   ]
  },
  {
   "cell_type": "code",
   "execution_count": 18,
   "id": "f858bd64",
   "metadata": {},
   "outputs": [
    {
     "data": {
      "text/plain": [
       "{0: 4.0, 1: 15.0, 2: 15.0, 3: 3.0, 4: 1.0, 5: 6.0, 6: 3.0}"
      ]
     },
     "execution_count": 18,
     "metadata": {},
     "output_type": "execute_result"
    }
   ],
   "source": [
    "class_weights"
   ]
  },
  {
   "cell_type": "code",
   "execution_count": 25,
   "id": "4383e4b5",
   "metadata": {},
   "outputs": [],
   "source": [
    "X_train = np.random.rand(X_train.shape[0], X_train.shape[1])"
   ]
  },
  {
   "cell_type": "code",
   "execution_count": null,
   "id": "281aabe7",
   "metadata": {},
   "outputs": [],
   "source": [
    "import matplotlib.pyplot as plt\n",
    "\n",
    "plt.figure()\n",
    "# plt.subplot(1, 2, 1)\n",
    "plt.plot(hist.history['loss'])\n",
    "plt.title('Loss')\n",
    "plt.xlabel('epoch')\n",
    "plt.ylabel('loss')\n",
    "plt.show()"
   ]
  },
  {
   "cell_type": "code",
   "execution_count": null,
   "id": "c68d0358",
   "metadata": {},
   "outputs": [],
   "source": [
    "score = model.evaluate(X_test, y_test, verbose=0)\n",
    "print('Test loss:', score[0])\n",
    "print('Test accuracy:', score[1])"
   ]
  },
  {
   "cell_type": "code",
   "execution_count": null,
   "id": "43970952",
   "metadata": {},
   "outputs": [],
   "source": [
    "def get_tfarray(arr):\n",
    "    result = []\n",
    "    for i in arr:\n",
    "        m = np.max(i)\n",
    "        result.append(i == m)\n",
    "    return np.array(result)"
   ]
  },
  {
   "cell_type": "code",
   "execution_count": null,
   "id": "14c00378",
   "metadata": {},
   "outputs": [],
   "source": [
    "from sklearn.metrics import classification_report\n",
    "from sklearn.metrics import accuracy_score\n",
    "class_names = ['anger', 'disgust', 'fear', 'joy', 'neutral', 'sadness', 'surprise']\n",
    "\n",
    "\n",
    "y_pred = model.predict(X_test)\n",
    "\n",
    "y_pred = get_tfarray(y_pred)\n",
    "\n",
    "accuracy_score(y_test, y_pred, normalize=False)\n",
    "print(classification_report(y_test, y_pred, target_names=class_names, digits=4))"
   ]
  },
  {
   "cell_type": "code",
   "execution_count": null,
   "id": "ad6c6fab",
   "metadata": {},
   "outputs": [],
   "source": [
    "from sklearn.metrics import confusion_matrix\n",
    "#Get the confusion matrix\n",
    "\n",
    "\n",
    "#array([[1, 0, 0],\n",
    "#   [1, 0, 0],\n",
    "#   [0, 1, 2]])\n",
    "cm =confusion_matrix(y_test.argmax(axis=1), y_pred.argmax(axis=1))\n",
    "#Now the normalize the diagonal entries\n",
    "cm = cm.astype('float') / cm.sum(axis=1)[:, np.newaxis]\n",
    "#array([[1.        , 0.        , 0.        ],\n",
    "#      [1.        , 0.        , 0.        ],\n",
    "#      [0.        , 0.33333333, 0.66666667]])\n",
    "\n",
    "#The diagonal entries are the accuracies of each class\n",
    "cm.diagonal()"
   ]
  },
  {
   "cell_type": "code",
   "execution_count": null,
   "id": "b4a4b3fb",
   "metadata": {},
   "outputs": [],
   "source": [
    "predictions = model.predict(X_test)"
   ]
  },
  {
   "cell_type": "code",
   "execution_count": null,
   "id": "2d0f75eb",
   "metadata": {},
   "outputs": [],
   "source": [
    "y_test[0], predictions[0]"
   ]
  },
  {
   "cell_type": "code",
   "execution_count": null,
   "id": "83605db0",
   "metadata": {},
   "outputs": [],
   "source": [
    "y_test[-1], predictions[-1]"
   ]
  },
  {
   "cell_type": "code",
   "execution_count": null,
   "id": "7ad49d5d",
   "metadata": {},
   "outputs": [],
   "source": [
    "np.argmax(y_test, axis = 1), np.argmax(predictions, axis = 1)"
   ]
  },
  {
   "cell_type": "raw",
   "id": "0cd95395",
   "metadata": {},
   "source": [
    "Accuracy = TP+TN/TP+FP+FN+TN\n",
    "Precision = TP/TP+FP\n",
    "Recall = TP/TP+FN\n",
    "F1 Score = 2*(Recall * Precision) / (Recall + Precision)"
   ]
  },
  {
   "cell_type": "raw",
   "id": "4a2192ed",
   "metadata": {},
   "source": [
    "TS = 5\n",
    "Without Class weights : 43%\n",
    "With class weights : 10%\n",
    "Without LSTM : 50%"
   ]
  }
 ],
 "metadata": {
  "kernelspec": {
   "display_name": "Python 3",
   "language": "python",
   "name": "python3"
  },
  "language_info": {
   "codemirror_mode": {
    "name": "ipython",
    "version": 3
   },
   "file_extension": ".py",
   "mimetype": "text/x-python",
   "name": "python",
   "nbconvert_exporter": "python",
   "pygments_lexer": "ipython3",
   "version": "3.7.10"
  }
 },
 "nbformat": 4,
 "nbformat_minor": 5
}
